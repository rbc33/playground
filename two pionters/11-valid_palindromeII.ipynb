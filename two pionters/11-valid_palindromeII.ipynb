{
 "cells": [
  {
   "cell_type": "markdown",
   "metadata": {},
   "source": [
    "## 11. Valid Palindrome II\n",
    "\n",
    "- **Problem**: Check if string can become palindrome by removing at most one character\n",
    "- **Example**:\n",
    "  - Input: \"abca\"\n",
    "  - Output: true (remove 'c')\n",
    "- **Key Idea**: Compare chars from both ends, allow one mismatch\n"
   ]
  },
  {
   "cell_type": "code",
   "execution_count": 10,
   "metadata": {},
   "outputs": [],
   "source": [
    "def valid(s:str) -> bool:\n",
    "    n = len(s)\n",
    "    if n == 0 or n ==1:\n",
    "        return True \n",
    "    l = 0\n",
    "    r = n-1\n",
    "    count = 0\n",
    "    while l<r:\n",
    "        if s[l] != s[r] and count>0:\n",
    "             return False\n",
    "        if s[l]!=s[r]:\n",
    "            count += 1\n",
    "            if r >= l +1:\n",
    "                if s[l]==s[r-1]:\n",
    "                    r-=1\n",
    "                    continue\n",
    "            if l <= r-1:\n",
    "                if s[l+1] == s[r]:\n",
    "                    l+=1\n",
    "                    continue\n",
    "        l += 1\n",
    "        r -= 1\n",
    "    return True"
   ]
  },
  {
   "cell_type": "code",
   "execution_count": 11,
   "metadata": {},
   "outputs": [],
   "source": [
    "test_cases = [\n",
    "    \"abca\",           # true (remove 'c')\n",
    "    \"aba\",            # true (already palindrome)\n",
    "    \"abcd\",           # false (need more than one removal)\n",
    "    \"a\",              # true (single char is palindrome)\n",
    "    \"\",               # true (empty string is palindrome)\n",
    "    \"aa\",             # true (already palindrome)\n",
    "    \"aaa\",            # true (already palindrome)\n",
    "    \"deeee\",          # true (remove 'd')\n",
    "    \"cbbcc\",          # true (remove last 'c')\n",
    "    \"abcddcbea\"       # true (remove 'e')\n",
    "]"
   ]
  },
  {
   "cell_type": "code",
   "execution_count": 12,
   "metadata": {},
   "outputs": [
    {
     "name": "stdout",
     "output_type": "stream",
     "text": [
      "True\n",
      "True\n",
      "False\n",
      "True\n",
      "True\n",
      "True\n",
      "True\n",
      "True\n",
      "True\n",
      "True\n"
     ]
    }
   ],
   "source": [
    "for t in test_cases:\n",
    "    bol = valid(t)\n",
    "    print(bol)"
   ]
  },
  {
   "cell_type": "code",
   "execution_count": null,
   "metadata": {},
   "outputs": [],
   "source": []
  }
 ],
 "metadata": {
  "kernelspec": {
   "display_name": "Python 3",
   "language": "python",
   "name": "python3"
  },
  "language_info": {
   "codemirror_mode": {
    "name": "ipython",
    "version": 3
   },
   "file_extension": ".py",
   "mimetype": "text/x-python",
   "name": "python",
   "nbconvert_exporter": "python",
   "pygments_lexer": "ipython3",
   "version": "3.11.6"
  }
 },
 "nbformat": 4,
 "nbformat_minor": 2
}
