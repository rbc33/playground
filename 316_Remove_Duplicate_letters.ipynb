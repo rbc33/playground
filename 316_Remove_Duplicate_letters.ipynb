{
 "cells": [
  {
   "cell_type": "markdown",
   "metadata": {},
   "source": [
    "[316\\. Remove Duplicate Letters](https://leetcode.com/problems/remove-duplicate-letters/)\n",
    "\n",
    "Attempted\n",
    "\n",
    "Medium\n",
    "\n",
    "Topics\n",
    "\n",
    "Companies\n",
    "\n",
    "Hint\n",
    "\n",
    "Given a string `s`, remove duplicate letters so that every letter appears once and only once. You must make sure your result is **the smallest in lexicographical order** among all possible results.\n",
    "\n",
    "**Example 1:**\n",
    "\n",
    "**Input:** s = \"bcabc\"\n",
    "**Output:** \"abc\"\n",
    "\n",
    "**Example 2:**\n",
    "\n",
    "**Input:** s = \"cbacdcbc\"\n",
    "**Output:** \"acdb\"\n",
    "\n",
    "**Constraints:**\n",
    "\n",
    "- `1 <= s.length <= 10<sup>4</sup>`\n",
    "- `s` consists of lowercase English letters."
   ]
  }
 ],
 "metadata": {
  "language_info": {
   "name": "python"
  }
 },
 "nbformat": 4,
 "nbformat_minor": 2
}
