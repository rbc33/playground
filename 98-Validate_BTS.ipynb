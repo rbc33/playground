{
 "cells": [
  {
   "cell_type": "markdown",
   "metadata": {},
   "source": [
    "[98\\. Validate Binary Search Tree](https://leetcode.com/problems/validate-binary-search-tree/)\n",
    "\n",
    "Solved\n",
    "\n",
    "Medium\n",
    "\n",
    "Topics\n",
    "\n",
    "Companies\n",
    "\n",
    "Given the `root` of a binary tree, _determine if it is a valid binary search tree (BST)_.\n",
    "\n",
    "A **valid BST** is defined as follows:\n",
    "\n",
    "- The left subtree of a node contains only nodes with keys **less than** the node's key.\n",
    "- The right subtree of a node contains only nodes with keys **greater than** the node's key.\n",
    "- Both the left and right subtrees must also be binary search trees.\n",
    "\n",
    "**Example 1:**\n",
    "\n",
    "![](https://assets.leetcode.com/uploads/2020/12/01/tree1.jpg)\n",
    "\n",
    "**Input:** root = \\[2,1,3\\]\n",
    "**Output:** true\n",
    "\n",
    "**Example 2:**\n",
    "\n",
    "![](https://assets.leetcode.com/uploads/2020/12/01/tree2.jpg)\n",
    "\n",
    "**Input:** root = \\[5,1,4,null,null,3,6\\]\n",
    "**Output:** false\n",
    "**Explanation:** The root node's value is 5 but its right child's value is 4.\n",
    "\n",
    "**Constraints:**\n",
    "\n",
    "- The number of nodes in the tree is in the range `[1, 10<sup>4</sup>]`.\n",
    "- `-2<sup>31</sup> <= Node.val <= 2<sup>31</sup> - 1`\n",
    "# Definition for a binary tree node.\n",
    "# class TreeNode:\n",
    "#     def __init__(self, val=0, left=None, right=None):\n",
    "#         self.val = val\n",
    "#         self.left = left\n",
    "#         self.right = right\n"
   ]
  },
  {
   "cell_type": "code",
   "execution_count": null,
   "metadata": {
    "vscode": {
     "languageId": "plaintext"
    }
   },
   "outputs": [],
   "source": [
    "class Solution:\n",
    "    def isValidBST(self, root: Optional[TreeNode]) -> bool:\n",
    "        res = []\n",
    "        stack = []\n",
    "        min_ = float(\"inf\")* -1\n",
    "        curr= root\n",
    "        while curr or stack:\n",
    "            while curr:\n",
    "                stack.append(curr)\n",
    "                curr = curr.left\n",
    "            curr = stack.pop()\n",
    "            if curr.val <= min_:\n",
    "                return False\n",
    "            else:\n",
    "                min_ = curr.val\n",
    "            res.append(curr.val)\n",
    "            curr = curr.right\n",
    "        return True\n",
    "        "
   ]
  }
 ],
 "metadata": {
  "language_info": {
   "name": "python"
  }
 },
 "nbformat": 4,
 "nbformat_minor": 2
}
