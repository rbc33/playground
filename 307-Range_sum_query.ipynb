{
 "cells": [
  {
   "cell_type": "markdown",
   "metadata": {},
   "source": [
    "307. Range Sum Query - Mutable\n",
    "Attempted\n",
    "Medium\n",
    "Topics\n",
    "Companies\n",
    "Given an integer array nums, handle multiple queries of the following types:\n",
    "\n",
    "Update the value of an element in nums.\n",
    "Calculate the sum of the elements of nums between indices left and right inclusive where left <= right.\n",
    "Implement the NumArray class:\n",
    "\n",
    "NumArray(int[] nums) Initializes the object with the integer array nums.\n",
    "void update(int index, int val) Updates the value of nums[index] to be val.\n",
    "int sumRange(int left, int right) Returns the sum of the elements of nums between indices left and right inclusive (i.e. nums[left] + nums[left + 1] + ... + nums[right]).\n",
    " \n",
    "\n",
    "Example 1:\n",
    "\n",
    "Input\n",
    "[\"NumArray\", \"sumRange\", \"update\", \"sumRange\"]\n",
    "[[[1, 3, 5]], [0, 2], [1, 2], [0, 2]]\n",
    "Output\n",
    "[null, 9, null, 8]\n",
    "\n",
    "Explanation\n",
    "NumArray numArray = new NumArray([1, 3, 5]);\n",
    "numArray.sumRange(0, 2); // return 1 + 3 + 5 = 9\n",
    "numArray.update(1, 2);   // nums = [1, 2, 5]\n",
    "numArray.sumRange(0, 2); // return 1 + 2 + 5 = 8\n",
    " \n",
    "\n",
    "Constraints:\n",
    "\n",
    "1 <= nums.length <= 3 * 104\n",
    "-100 <= nums[i] <= 100\n",
    "0 <= index < nums.length\n",
    "-100 <= val <= 100\n",
    "0 <= left <= right < nums.length\n",
    "At most 3 * 104 calls will be made to update and sumRange."
   ]
  },
  {
   "cell_type": "code",
   "execution_count": 5,
   "metadata": {},
   "outputs": [],
   "source": [
    "class NumArray:\n",
    "    def __init__(self, arr):\n",
    "        # Número de elementos en el arreglo original\n",
    "        self.n = len(arr)\n",
    "        # Calculamos la mínima potencia de 2 mayor o igual que n\n",
    "        self.size = 1\n",
    "        while self.size < self.n:\n",
    "            self.size *= 2\n",
    "        # Inicializamos el árbol (lista), con espacio para 2size elementos\n",
    "        self.tree = [0] * (2 * self.size)\n",
    "\n",
    "\n",
    "        # Colocamos los elementos en las hojas (posición size hasta size+n-1)\n",
    "        for i in range(self.n):\n",
    "            self.tree[self.size + i] = arr[i]\n",
    "        # Construimos el árbol: cada nodo padre es la suma de sus dos hijos\n",
    "        for i in range(self.size - 1, 0, -1):\n",
    "            self.tree[i] = self.tree[2 * i] + self.tree[2 * i + 1]\n",
    "\n",
    "    def update(self, index: int, value: int) -> None:\n",
    "        # Actualizamos la hoja correspondiente\n",
    "        pos = self.size + index\n",
    "        self.tree[pos] = value\n",
    "        # Actualizamos hacia arriba en el árbol\n",
    "        pos //= 2\n",
    "        while pos >= 1:\n",
    "            self.tree[pos] = self.tree[2 * pos] + self.tree[2 * pos + 1]\n",
    "            pos //= 2\n",
    "\n",
    "    def sumRange(self, left: int, right: int) -> int:\n",
    "        # Convertimos los índices del arreglo original a índices de hojas\n",
    "        left += self.size\n",
    "        right += self.size\n",
    "        total = 0\n",
    "        # Se recorre el árbol mientras left sea menor o igual a right\n",
    "        while left <= right:\n",
    "            # Si left es un nodo derecho (índice impar), su valor se suma y se avanza\n",
    "            if left % 2 == 1:\n",
    "                total += self.tree[left]\n",
    "                left += 1\n",
    "            # Si right es un nodo izquierdo (índice par), se suma su valor y se retrocede\n",
    "            if right % 2 == 0:\n",
    "                total += self.tree[right]\n",
    "                right -= 1\n",
    "            # Subimos al siguiente nivel dividiendo entre 2\n",
    "            left //= 2\n",
    "            right //= 2\n",
    "        return total\n",
    "\n",
    "# Your NumArray object will be instantiated and called as such:\n",
    "# obj = NumArray(nums)\n",
    "# obj.update(index,val)\n",
    "# param_2 = obj.sumRange(left,right)\n"
   ]
  },
  {
   "cell_type": "code",
   "execution_count": null,
   "metadata": {},
   "outputs": [
    {
     "ename": "NameError",
     "evalue": "name 'nums' is not defined",
     "output_type": "error",
     "traceback": [
      "\u001b[31m---------------------------------------------------------------------------\u001b[39m",
      "\u001b[31mNameError\u001b[39m                                 Traceback (most recent call last)",
      "\u001b[36mCell\u001b[39m\u001b[36m \u001b[39m\u001b[32mIn[3]\u001b[39m\u001b[32m, line 1\u001b[39m\n\u001b[32m----> \u001b[39m\u001b[32m1\u001b[39m obj = NumArray(\u001b[43mnums\u001b[49m)\n\u001b[32m      2\u001b[39m param = obj.sumRange(left,right)\n\u001b[32m      3\u001b[39m \u001b[38;5;28mprint\u001b[39m(param)\n",
      "\u001b[31mNameError\u001b[39m: name 'nums' is not defined"
     ]
    }
   ],
   "source": [
    "obj = NumArray([1,3,5])\n",
    "param = obj.sumRange(0,2)\n",
    "print(param)\n",
    "obj.update(1,2)\n",
    "param = obj.sumRange(0,2)\n",
    "print(param)\n"
   ]
  },
  {
   "cell_type": "code",
   "execution_count": 6,
   "metadata": {},
   "outputs": [
    {
     "name": "stdout",
     "output_type": "stream",
     "text": [
      "-8\n",
      "-5\n",
      "0\n"
     ]
    }
   ],
   "source": [
    "obj = NumArray([9,-8])\n",
    "obj.update(0,3)\n",
    "param = obj.sumRange(1,1)\n",
    "print(param)\n",
    "param = obj.sumRange(0,1)\n",
    "print(param)\n",
    "obj.update(1,-3)\n",
    "param = obj.sumRange(0,1)\n",
    "print(param)"
   ]
  }
 ],
 "metadata": {
  "kernelspec": {
   "display_name": "Python 3",
   "language": "python",
   "name": "python3"
  },
  "language_info": {
   "codemirror_mode": {
    "name": "ipython",
    "version": 3
   },
   "file_extension": ".py",
   "mimetype": "text/x-python",
   "name": "python",
   "nbconvert_exporter": "python",
   "pygments_lexer": "ipython3",
   "version": "3.11.6"
  }
 },
 "nbformat": 4,
 "nbformat_minor": 2
}
