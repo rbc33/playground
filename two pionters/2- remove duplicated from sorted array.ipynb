{
 "cells": [
  {
   "cell_type": "markdown",
   "metadata": {},
   "source": [
    "\"\"\"\n",
    "Remove Duplicates from Sorted Array\n",
    "\n",
    "Given an integer array nums sorted in non-decreasing order, remove the duplicates in-place.\n",
    "Return the number of unique elements in nums.\n",
    "\n",
    "Example:\n",
    "Input: nums = [1,1,2,2,3,4,4]\n",
    "Output: 5, nums = [1,2,3,4,_,_,_]\n",
    "\"\"\""
   ]
  },
  {
   "cell_type": "code",
   "execution_count": null,
   "metadata": {},
   "outputs": [],
   "source": [
    "def remove(arr):\n",
    "    if not arr:\n",
    "        return 0\n",
    "    \n",
    "    # Inicializar el puntero de escritura\n",
    "    write_pos = 1\n",
    "    \n",
    "    # Recorrer el array desde el segundo elemento\n",
    "    for i in range(1, len(arr)):\n",
    "        # Si encontramos un elemento diferente al anterior\n",
    "        if arr[i] != arr[i-1]:\n",
    "            # Copiarlo a la posición de escritura\n",
    "            arr[write_pos] = arr[i]\n",
    "            # Avanzar el puntero de escritura\n",
    "            write_pos += 1\n",
    "    \n",
    "    # Marcar las posiciones restantes con \"_\"\n",
    "    for i in range(write_pos, len(arr)):\n",
    "        arr[i] = \"_\"\n",
    "    \n",
    "    return write_pos  # Número de elementos únicos\n",
    "    "
   ]
  },
  {
   "cell_type": "code",
   "execution_count": null,
   "metadata": {},
   "outputs": [],
   "source": [
    "test_cases = [\n",
    "    [1,1,2,2,3,4,4],      # Output: 5, nums = [1,2,3,4,_,_,_]\n",
    "    [1,2,3,4,5],          # Output: 5, nums = [1,2,3,4,5]\n",
    "    [1,1,1,1,1],          # Output: 1, nums = [1,_,_,_,_]\n",
    "    [],                    # Output: 0, nums = []\n",
    "    [1,1,2,2,2,2,3,3],     # Output: 3, nums = [1,2,3,_,_,_,_,_]\n",
    "        [1,1,2,2,3,4,4],                          # Output: 5, nums = [1,2,3,4,_,_,_]\n",
    "    [i for i in range(1000)],                 # Output: 1000, all numbers unique\n",
    "    [1]*10000,                                # Output: 1, all same number\n",
    "    [i//100 for i in range(10000)],           # Output: 100, many duplicates\n",
    "    [1,1,1,2,2,2,3,3,3]*1000                 # Output: 3, repeated pattern\n",
    "]"
   ]
  },
  {
   "cell_type": "code",
   "execution_count": null,
   "metadata": {},
   "outputs": [],
   "source": [
    "remove_duplicates_cases = [\n",
    "    [1,1,2,2,3,4,4],                          # Output: 5, nums = [1,2,3,4,_,_,_]\n",
    "    [i for i in range(1000)],                 # Output: 1000, all numbers unique\n",
    "    [1]*10000,                                # Output: 1, all same number\n",
    "    [i//100 for i in range(10000)],           # Output: 100, many duplicates\n",
    "    [1,1,1,2,2,2,3,3,3]*1000                 # Output: 3, repeated pattern\n",
    "]"
   ]
  }
 ],
 "metadata": {
  "kernelspec": {
   "display_name": "Python 3",
   "language": "python",
   "name": "python3"
  },
  "language_info": {
   "name": "python",
   "version": "3.11.6"
  }
 },
 "nbformat": 4,
 "nbformat_minor": 2
}
