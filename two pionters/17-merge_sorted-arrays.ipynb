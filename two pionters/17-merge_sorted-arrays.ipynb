{
 "cells": [
  {
   "cell_type": "markdown",
   "metadata": {},
   "source": [
    "## 17. Merge Sorted Arrays\n",
    "\n",
    "- **Problem**: Merge two sorted arrays into first array\n",
    "- **Example**:\n",
    "  - Input: [1,2,3,0,0,0], [2,5,6]\n",
    "  - Output: [1,2,2,3,5,6]\n",
    "- **Key Idea**: Fill from end to avoid overwriting\n"
   ]
  },
  {
   "cell_type": "code",
   "execution_count": 28,
   "metadata": {},
   "outputs": [],
   "source": [
    "from typing import List\n",
    "\n",
    "def merge(nums1: List[int], nums2: List[int], m: int, n: int) -> None:\n",
    "    \"\"\"\n",
    "    nums1 = [1,2,3,0,0,0], m = 3\n",
    "    nums2 = [2,5,6], n = 3\n",
    "    Resultado: nums1 = [1,2,2,3,5,6]\n",
    "    \n",
    "    La función debe modificar nums1 directamente\n",
    "    \"\"\"\n",
    "    nums = nums1[:]\n",
    "    for i,val in enumerate(nums2):\n",
    "        j = (i+1)*-1\n",
    "        nums[j] = val\n",
    "\n",
    "    nums.sort() \n",
    "    return nums"
   ]
  },
  {
   "cell_type": "code",
   "execution_count": 32,
   "metadata": {},
   "outputs": [],
   "source": [
    "from typing import List\n",
    "\n",
    "def merge(nums1: List[int], nums2: List[int], m: int, n: int) -> None:\n",
    "    last = m + n - 1\n",
    "    p1 = m-1\n",
    "    p2 = n-1\n",
    "\n",
    "    while p2 >=0:\n",
    "        if p1 >= 0 and nums1[p1]>nums2[p2]:\n",
    "            nums1[last] = nums1[p1]\n",
    "            p1 -= 1\n",
    "        else:\n",
    "            nums1[last] = nums2[p2]\n",
    "            p2 -= 1\n",
    "        last -= 1\n",
    "    return nums1"
   ]
  },
  {
   "cell_type": "code",
   "execution_count": 33,
   "metadata": {},
   "outputs": [],
   "source": [
    "test_cases = [\n",
    "    ([1,2,3,0,0,0], [2,5,6], 3, 3),      # [1,2,2,3,5,6]\n",
    "    ([1], [], 1, 0),                      # [1]\n",
    "    ([0], [1], 0, 1),                     # [1]\n",
    "    ([4,5,6,0,0,0], [1,2,3], 3, 3),      # [1,2,3,4,5,6]\n",
    "    ([1,2,4,5,6,0], [3], 5, 1),          # [1,2,3,4,5,6]\n",
    "    ([0,0,0], [2,5,6], 0, 3),            # [2,5,6]\n",
    "    ([1,2,3,0,0,0,0], [2,5,6,7], 3, 4),  # [1,2,2,3,5,6,7]\n",
    "    ([2,0], [1], 1, 1),                   # [1,2]\n",
    "    ([4,0,0,0], [1,2,3], 1, 3),          # [1,2,3,4]\n",
    "    ([0], [], 0, 0)                       # [0]\n",
    "]"
   ]
  },
  {
   "cell_type": "code",
   "execution_count": 34,
   "metadata": {},
   "outputs": [
    {
     "name": "stdout",
     "output_type": "stream",
     "text": [
      "([1, 2, 2, 3, 5, 6], [2, 5, 6], 3, 3) [1, 2, 2, 3, 5, 6]\n",
      "([1], [], 1, 0) [1]\n",
      "([1], [1], 0, 1) [1]\n",
      "([1, 2, 3, 4, 5, 6], [1, 2, 3], 3, 3) [1, 2, 3, 4, 5, 6]\n",
      "([1, 2, 3, 4, 5, 6], [3], 5, 1) [1, 2, 3, 4, 5, 6]\n",
      "([2, 5, 6], [2, 5, 6], 0, 3) [2, 5, 6]\n",
      "([1, 2, 2, 3, 5, 6, 7], [2, 5, 6, 7], 3, 4) [1, 2, 2, 3, 5, 6, 7]\n",
      "([1, 2], [1], 1, 1) [1, 2]\n",
      "([1, 2, 3, 4], [1, 2, 3], 1, 3) [1, 2, 3, 4]\n",
      "([0], [], 0, 0) [0]\n"
     ]
    }
   ],
   "source": [
    "for t in test_cases:\n",
    "    res = merge(t[0], t[1], t[2], t[3])\n",
    "    print(t, res)"
   ]
  }
 ],
 "metadata": {
  "kernelspec": {
   "display_name": "Python 3",
   "language": "python",
   "name": "python3"
  },
  "language_info": {
   "codemirror_mode": {
    "name": "ipython",
    "version": 3
   },
   "file_extension": ".py",
   "mimetype": "text/x-python",
   "name": "python",
   "nbconvert_exporter": "python",
   "pygments_lexer": "ipython3",
   "version": "3.11.6"
  }
 },
 "nbformat": 4,
 "nbformat_minor": 2
}
