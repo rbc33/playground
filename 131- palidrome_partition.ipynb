{
 "cells": [
  {
   "cell_type": "markdown",
   "metadata": {},
   "source": [
    "131. Palindrome Partitioning\n",
    "Medium\n",
    "Topics\n",
    "Companies\n",
    "Given a string s, partition s such that every substring of the partition is a palindrome. Return all possible palindrome partitioning of s.\n",
    "\n",
    " \n",
    "\n",
    "Example 1:\n",
    "\n",
    "Input: s = \"aab\"\n",
    "Output: [[\"a\",\"a\",\"b\"],[\"aa\",\"b\"]]\n",
    "Example 2:\n",
    "\n",
    "Input: s = \"a\"\n",
    "Output: [[\"a\"]]\n",
    " \n",
    "\n",
    "Constraints:\n",
    "\n",
    "1 <= s.length <= 16\n",
    "s contains only lowercase English letters."
   ]
  },
  {
   "cell_type": "code",
   "execution_count": null,
   "metadata": {
    "vscode": {
     "languageId": "plaintext"
    }
   },
   "outputs": [],
   "source": [
    "def partition(s: str) -> List[List[str]]:\n",
    "    res = []\n",
    "    def rec(s, a=None):\n",
    "        can = []\n",
    "        for i in range(1,len(s)):\n",
    "            sub = s[:i]\n",
    "            if sub == sub[::-1]:\n",
    "                print(sub)\n",
    "                if s[i:] == s[i:][::-1]:\n",
    "                    print(s[i:])\n",
    "                    if a != None:\n",
    "                        res.append(a +[s[:i],s[i:]])\n",
    "                    else:\n",
    "                        res.append([s[:i],s[i:]])\n",
    "                if a:\n",
    "                    rec(s[i:], a.append(sub))\n",
    "                else:\n",
    "                    rec(s[i:], [sub])\n",
    "\n",
    "    rec(s)\n",
    "    return res\n",
    "\n",
    "                        \n",
    "                    \n",
    "\n",
    "        "
   ]
  }
 ],
 "metadata": {
  "language_info": {
   "name": "python"
  }
 },
 "nbformat": 4,
 "nbformat_minor": 2
}
