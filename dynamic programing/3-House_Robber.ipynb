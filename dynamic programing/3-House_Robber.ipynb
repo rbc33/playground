{
 "cells": [
  {
   "cell_type": "markdown",
   "metadata": {},
   "source": [
    "# 3. House Robber\n",
    "Un ladrón planea robar casas a lo largo de una calle. Cada casa tiene una cierta cantidad de dinero, pero casas adyacentes tienen sistemas de seguridad conectados y alertarán a la policía si dos casas adyacentes son robadas la misma noche. Dado un array que representa la cantidad de dinero en cada casa, determina la cantidad máxima de dinero que el ladrón puede robar sin alertar a la policía.\n",
    "\n",
    "Test cases:\n",
    "\n",
    "- rob([1,2,3,1]) → 4 (1+3)\n",
    "- rob([2,7,9,3,1]) → 12 (2+9+1)\n",
    "- rob([2,1,1,2]) → 4 (2+2)\n",
    "\n",
    "--------------------------"
   ]
  },
  {
   "cell_type": "code",
   "execution_count": 4,
   "metadata": {},
   "outputs": [],
   "source": [
    "def house_rob(n):\n",
    "    dp = [False]* len(n)\n",
    "    dp[0] = n[0]\n",
    "    dp[1] = max(n[1], n[0])\n",
    "    for i in range(2, len(n)):\n",
    "        dp[i] = max(dp[i-1], dp[i-2] + n[i])\n",
    "    return dp[-1]"
   ]
  },
  {
   "cell_type": "code",
   "execution_count": null,
   "metadata": {},
   "outputs": [
    {
     "name": "stdout",
     "output_type": "stream",
     "text": [
      "4 4\n",
      "12 12\n",
      "4 4\n",
      "39 42\n"
     ]
    },
    {
     "ename": "IndexError",
     "evalue": "list index out of range",
     "output_type": "error",
     "traceback": [
      "\u001b[31m---------------------------------------------------------------------------\u001b[39m",
      "\u001b[31mIndexError\u001b[39m                                Traceback (most recent call last)",
      "\u001b[36mCell\u001b[39m\u001b[36m \u001b[39m\u001b[32mIn[6]\u001b[39m\u001b[32m, line 13\u001b[39m\n\u001b[32m      2\u001b[39m house_robber_tests = [\n\u001b[32m      3\u001b[39m     \u001b[38;5;66;03m# Casos normales\u001b[39;00m\n\u001b[32m      4\u001b[39m     ([\u001b[32m1\u001b[39m, \u001b[32m2\u001b[39m, \u001b[32m3\u001b[39m, \u001b[32m1\u001b[39m], \u001b[32m4\u001b[39m),\n\u001b[32m   (...)\u001b[39m\u001b[32m     10\u001b[39m     ([\u001b[32m1\u001b[39m, \u001b[32m2\u001b[39m], \u001b[32m2\u001b[39m)\n\u001b[32m     11\u001b[39m ]\n\u001b[32m     12\u001b[39m \u001b[38;5;28;01mfor\u001b[39;00m t \u001b[38;5;129;01min\u001b[39;00m house_robber_tests:\n\u001b[32m---> \u001b[39m\u001b[32m13\u001b[39m     res = \u001b[43mhouse_rob\u001b[49m\u001b[43m(\u001b[49m\u001b[43mt\u001b[49m\u001b[43m[\u001b[49m\u001b[32;43m0\u001b[39;49m\u001b[43m]\u001b[49m\u001b[43m)\u001b[49m\n\u001b[32m     14\u001b[39m     \u001b[38;5;28mprint\u001b[39m(res, t[\u001b[32m1\u001b[39m])\n",
      "\u001b[36mCell\u001b[39m\u001b[36m \u001b[39m\u001b[32mIn[4]\u001b[39m\u001b[32m, line 4\u001b[39m, in \u001b[36mhouse_rob\u001b[39m\u001b[34m(n)\u001b[39m\n\u001b[32m      2\u001b[39m dp = [\u001b[38;5;28;01mFalse\u001b[39;00m]* \u001b[38;5;28mlen\u001b[39m(n)\n\u001b[32m      3\u001b[39m dp[\u001b[32m0\u001b[39m] = n[\u001b[32m0\u001b[39m]\n\u001b[32m----> \u001b[39m\u001b[32m4\u001b[39m dp[\u001b[32m1\u001b[39m] = \u001b[38;5;28mmax\u001b[39m(\u001b[43mn\u001b[49m\u001b[43m[\u001b[49m\u001b[32;43m1\u001b[39;49m\u001b[43m]\u001b[49m, n[\u001b[32m0\u001b[39m])\n\u001b[32m      5\u001b[39m \u001b[38;5;28;01mfor\u001b[39;00m i \u001b[38;5;129;01min\u001b[39;00m \u001b[38;5;28mrange\u001b[39m(\u001b[32m2\u001b[39m, \u001b[38;5;28mlen\u001b[39m(n)):\n\u001b[32m      6\u001b[39m     dp[i] = \u001b[38;5;28mmax\u001b[39m(dp[i-\u001b[32m1\u001b[39m], dp[i-\u001b[32m2\u001b[39m] + n[i])\n",
      "\u001b[31mIndexError\u001b[39m: list index out of range"
     ]
    }
   ],
   "source": [
    "# 3. House Robber\n",
    "house_robber_tests = [\n",
    "    # Casos normales\n",
    "    ([1, 2, 3, 1], 4),\n",
    "    ([2, 7, 9, 3, 1], 12),\n",
    "    ([2, 1, 1, 2], 4),\n",
    "    # Casos difíciles\n",
    "    ([6, 3, 10, 8, 2, 10, 3, 5, 10, 5, 3], 39),\n",
    "    ([1], 1),\n",
    "    ([1, 2], 2)\n",
    "]\n",
    "for t in house_robber_tests:\n",
    "    res = house_rob(t[0])\n",
    "    print(res, t[1])"
   ]
  }
 ],
 "metadata": {
  "kernelspec": {
   "display_name": "Python 3",
   "language": "python",
   "name": "python3"
  },
  "language_info": {
   "codemirror_mode": {
    "name": "ipython",
    "version": 3
   },
   "file_extension": ".py",
   "mimetype": "text/x-python",
   "name": "python",
   "nbconvert_exporter": "python",
   "pygments_lexer": "ipython3",
   "version": "3.11.6"
  }
 },
 "nbformat": 4,
 "nbformat_minor": 2
}
