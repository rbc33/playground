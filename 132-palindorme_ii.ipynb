{
 "cells": [
  {
   "cell_type": "markdown",
   "metadata": {},
   "source": [
    "132. Palindrome Partitioning II\n",
    "Attempted\n",
    "Hard\n",
    "Topics\n",
    "Companies\n",
    "Given a string s, partition s such that every substring of the partition is a palindrome.\n",
    "\n",
    "Return the minimum cuts needed for a palindrome partitioning of s.\n",
    "\n",
    " \n",
    "\n",
    "Example 1:\n",
    "\n",
    "Input: s = \"aab\"\n",
    "Output: 1\n",
    "Explanation: The palindrome partitioning [\"aa\",\"b\"] could be produced using 1 cut.\n",
    "Example 2:\n",
    "\n",
    "Input: s = \"a\"\n",
    "Output: 0\n",
    "Example 3:\n",
    "\n",
    "Input: s = \"ab\"\n",
    "Output: 1\n",
    " \n",
    "\n",
    "Constraints:\n",
    "\n",
    "1 <= s.length <= 2000\n",
    "s consists of lowercase English letters only."
   ]
  },
  {
   "cell_type": "code",
   "execution_count": 15,
   "metadata": {},
   "outputs": [],
   "source": [
    "def minCut(s: str) -> int:\n",
    "    if len(s) == 1 or s == s[::-1]:\n",
    "        return 0\n",
    "    if len(s) == 2:\n",
    "        if s[0] == s[1]:\n",
    "            return 0\n",
    "        return 1 \n",
    "    res = []\n",
    "    cut = []\n",
    "    \n",
    "    def rec(s, a=None):\n",
    "        if not s:\n",
    "            if a is not None:\n",
    "                res.append(a[:])\n",
    "            return\n",
    "        for i in range(1,len(s)):\n",
    "            sub = s[:i]\n",
    "            if sub == sub[::-1]:\n",
    "                if s[i:] == s[i:][::-1]:\n",
    "                    if a != None:\n",
    "                        res.append(a + [s[:i],s[i:]])\n",
    "                    else:\n",
    "                        res.append([s[:i],s[i:]])\n",
    "                elif a:\n",
    "                    rec(s[i:], a + [sub])\n",
    "                else:\n",
    "                    rec(s[i:], [sub])\n",
    "\n",
    "    rec(s)\n",
    "    \n",
    "    for r in res:\n",
    "        cut.append(len(r))\n",
    "\n",
    "    print(res[cut.index(min(cut))])\n",
    "    return min(cut)-1"
   ]
  },
  {
   "cell_type": "code",
   "execution_count": 31,
   "metadata": {},
   "outputs": [],
   "source": [
    "def minCut(s):\n",
    "    n = len(s)\n",
    "    dp = [i for i in range(n)]\n",
    "    for i in range(n):\n",
    "        sub = s[0:i+1]\n",
    "        if sub == sub[::-1]:\n",
    "            dp[i] = 0\n",
    "            continue\n",
    "        for j in range(i+1):\n",
    "            sub = s[j+1:i+1]\n",
    "            if sub == sub[::-1]:\n",
    "                dp[i] = min(dp[i],dp[j]+1)\n",
    "    return dp[-1]"
   ]
  },
  {
   "cell_type": "code",
   "execution_count": 32,
   "metadata": {},
   "outputs": [
    {
     "name": "stdout",
     "output_type": "stream",
     "text": [
      "1 , expected:  1 len of string: 3\n",
      "75 , expected:  75 len of string: 100\n",
      "0 , expected:  0 len of string: 49\n"
     ]
    }
   ],
   "source": [
    "test_cases = [\n",
    "    (\"aab\",1),\n",
    "    (\"fifgbeajcacehiicccfecbfhhgfiiecdcjjffbghdidbhbdbfbfjccgbbdcjheccfbhafehieabbdfeigbiaggchaeghaijfbjhi\", 75),\n",
    "    (\"ababababababababababababcbabababababababababababa\" ,0)\n",
    "]\n",
    "for t in test_cases:\n",
    "    res = minCut(t[0])\n",
    "    \n",
    "    print(res,\", expected: \", t[1], f\"len of string: {len(t[0])}\" )"
   ]
  }
 ],
 "metadata": {
  "kernelspec": {
   "display_name": "Python 3",
   "language": "python",
   "name": "python3"
  },
  "language_info": {
   "codemirror_mode": {
    "name": "ipython",
    "version": 3
   },
   "file_extension": ".py",
   "mimetype": "text/x-python",
   "name": "python",
   "nbconvert_exporter": "python",
   "pygments_lexer": "ipython3",
   "version": "3.11.6"
  }
 },
 "nbformat": 4,
 "nbformat_minor": 2
}
