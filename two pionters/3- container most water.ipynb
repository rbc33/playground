{
 "cells": [
  {
   "cell_type": "markdown",
   "metadata": {},
   "source": [
    "\n",
    "# Container With Most Water\n",
    "\n",
    "Given n non-negative integers height where each represents a point at coordinate (i, height[i]).\n",
    "Find two lines that together with the x-axis form a container that contains the most water.\n",
    "\n",
    "Example:\n",
    "Input: height = [1,8,6,2,5,4,8,3,7]\n",
    "Output: 49\n",
    "### Input: height = [1,8,6,2,5,4,8,3,7]\n",
    "### Output: 49\n",
    "### Find two lines that together with x-axis forms container holding most water\n"
   ]
  },
  {
   "cell_type": "code",
   "execution_count": 17,
   "metadata": {},
   "outputs": [],
   "source": [
    "def area(arr):\n",
    "    n = len(arr)\n",
    "    l = 0\n",
    "    r = n-1\n",
    "    maxa = 0\n",
    "    while l < r:\n",
    "        area = (r-l)*min(arr[r],arr[l])\n",
    "        if area > maxa:\n",
    "            maxa = area\n",
    "        if arr[l]< arr[r]:       # Mover el puntero con la altura menor\n",
    "            l += 1\n",
    "        else:\n",
    "            r -= 1    \n",
    "    print(maxa)\n",
    "    return maxa"
   ]
  },
  {
   "cell_type": "code",
   "execution_count": 13,
   "metadata": {},
   "outputs": [],
   "source": [
    "test_cases = [\n",
    "    [1,8,6,2,5,4,8,3,7],  # Output: 49\n",
    "    [1,1],                 # Output: 1\n",
    "    [4,3,2,1,4],          # Output: 16\n",
    "    [1,2,4,3],            # Output: 4\n",
    "    [10000,1,1,1,10000],   # Output: 40000\n",
    "[1,8,6,2,5,4,8,3,7],                     # Output: 49\n",
    "    [i for i in range(10000)],               # Output: 12497500\n",
    "    [10000]*10000,                           # Output: 100000000\n",
    "    [i%2 for i in range(10000)],             # Output: 4999\n",
    "    [10000,0,0,0,0,0,0,0,10000]             # Output: 80000\n",
    "]"
   ]
  },
  {
   "cell_type": "code",
   "execution_count": 18,
   "metadata": {},
   "outputs": [
    {
     "name": "stdout",
     "output_type": "stream",
     "text": [
      "49\n",
      "1\n",
      "16\n",
      "4\n",
      "40000\n",
      "49\n",
      "24995000\n",
      "99990000\n",
      "9998\n",
      "80000\n"
     ]
    }
   ],
   "source": [
    "for t in test_cases:\n",
    "    area(t)"
   ]
  }
 ],
 "metadata": {
  "kernelspec": {
   "display_name": "Python 3",
   "language": "python",
   "name": "python3"
  },
  "language_info": {
   "codemirror_mode": {
    "name": "ipython",
    "version": 3
   },
   "file_extension": ".py",
   "mimetype": "text/x-python",
   "name": "python",
   "nbconvert_exporter": "python",
   "pygments_lexer": "ipython3",
   "version": "3.11.6"
  }
 },
 "nbformat": 4,
 "nbformat_minor": 2
}
