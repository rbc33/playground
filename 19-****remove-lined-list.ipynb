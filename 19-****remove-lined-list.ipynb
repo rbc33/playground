{
 "cells": [
  {
   "cell_type": "markdown",
   "metadata": {},
   "source": [
    "[19\\. Remove Nth Node From End of List](https://leetcode.com/problems/remove-nth-node-from-end-of-list/)\n",
    "\n",
    "Medium\n",
    "\n",
    "Topics\n",
    "\n",
    "Companies\n",
    "\n",
    "Hint\n",
    "\n",
    "Given the `head` of a linked list, remove the `n<sup>th</sup>` node from the end of the list and return its head.\n",
    "\n",
    "**Example 1:**\n",
    "\n",
    "![](https://assets.leetcode.com/uploads/2020/10/03/remove_ex1.jpg)\n",
    "\n",
    "**Input:** head = \\[1,2,3,4,5\\], n = 2\n",
    "**Output:** \\[1,2,3,5\\]\n",
    "\n",
    "**Example 2:**\n",
    "\n",
    "**Input:** head = \\[1\\], n = 1\n",
    "**Output:** \\[\\]\n",
    "\n",
    "**Example 3:**\n",
    "\n",
    "**Input:** head = \\[1,2\\], n = 1\n",
    "**Output:** \\[1\\]\n",
    "\n",
    "**Constraints:**\n",
    "\n",
    "- The number of nodes in the list is `sz`.\n",
    "- `1 <= sz <= 30`\n",
    "- `0 <= Node.val <= 100`\n",
    "- `1 <= n <= sz`\n",
    "\n",
    "**Follow up:** Could you do this in one pass?"
   ]
  },
  {
   "cell_type": "code",
   "execution_count": null,
   "metadata": {
    "vscode": {
     "languageId": "plaintext"
    }
   },
   "outputs": [],
   "source": [
    "# Definition for singly-linked list. toppppp!!!!!!\n",
    "# class ListNode:\n",
    "#     def __init__(self, val=0, next=None):\n",
    "#         self.val = val\n",
    "#         self.next = next\n",
    "class Solution:\n",
    "    def removeNthFromEnd(self, head: Optional[ListNode], n: int) -> Optional[ListNode]:\n",
    "        if not head.next:\n",
    "            return \n",
    "        i = 0\n",
    "        current = head\n",
    "        while current:\n",
    "            current = current.next\n",
    "            i += 1\n",
    "        if i-n == 0:\n",
    "            head = head.next\n",
    "            return head\n",
    "        i -= n+1\n",
    "        last = current\n",
    "        current = head\n",
    "        for _ in range(i):\n",
    "            current = current.next\n",
    "        node = current\n",
    "        current = current.next\n",
    "        current = current.next\n",
    "        node.next = current\n",
    "        return head\n"
   ]
  },
  {
   "cell_type": "code",
   "execution_count": null,
   "metadata": {
    "vscode": {
     "languageId": "plaintext"
    }
   },
   "outputs": [],
   "source": [
    "# Definition for singly-linked list.\n",
    "# class ListNode:\n",
    "#     def __init__(self, val=0, next=None):\n",
    "#         self.val = val\n",
    "#         self.next = next\n",
    "class Solution:\n",
    "    def removeNthFromEnd(self, head: Optional[ListNode], n: int) -> Optional[ListNode]:\n",
    "        slow=fast=head\n",
    "        prev = None\n",
    "        for i in range(n):\n",
    "            fast = fast.next\n",
    "        while fast:\n",
    "            prev = slow\n",
    "            slow = slow.next\n",
    "            fast = fast.next\n",
    "        if not prev:\n",
    "            head = head.next\n",
    "            return head\n",
    "        prev.next = slow.next\n",
    "        return head"
   ]
  }
 ],
 "metadata": {
  "language_info": {
   "name": "python"
  }
 },
 "nbformat": 4,
 "nbformat_minor": 2
}
