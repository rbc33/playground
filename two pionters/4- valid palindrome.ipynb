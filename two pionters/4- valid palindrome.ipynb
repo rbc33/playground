{
 "cells": [
  {
   "cell_type": "markdown",
   "metadata": {},
   "source": [
    "# Valid Palindrome\n",
    "\n",
    "A phrase is a palindrome if, after converting all uppercase letters into lowercase letters \n",
    "and removing all non-alphanumeric characters, it reads the same forward and backward.\n",
    "\n",
    "### Input: s = \"A man, a plan, a canal: Panama\"\n",
    "### Output: true\n",
    "### Check if string is palindrome ignoring non-alphanumeric characters"
   ]
  },
  {
   "cell_type": "code",
   "execution_count": 12,
   "metadata": {},
   "outputs": [],
   "source": [
    "def is_palindrome(s: str):\n",
    "    l = 0\n",
    "    r = len(s)-1\n",
    "    s = s.lower()\n",
    "    while l <= r:\n",
    "        if not s[l].isalpha():\n",
    "            l += 1\n",
    "            continue\n",
    "        if not s[r].isalpha():\n",
    "            r -= 1\n",
    "            continue\n",
    "        if s[l] != s[r]:\n",
    "            print(False)\n",
    "            return False\n",
    "        l += 1\n",
    "        r -= 1\n",
    "    print(True)\n",
    "    return True"
   ]
  },
  {
   "cell_type": "code",
   "execution_count": 1,
   "metadata": {},
   "outputs": [],
   "source": [
    "test_cases = [\n",
    "    \"A man, a plan, a canal: Panama\",  # Output: true\n",
    "    \"race a car\",                      # Output: false\n",
    "    \" \",                               # Output: true\n",
    "    \".,\",                              # Output: true\n",
    "    \"0P\",                               # Output: false\n",
    "        \"A man, a plan, a canal: Panama\",        # Output: true\n",
    "    \"a\"*10000,                               # Output: true\n",
    "    \"a\"*5000 + \"b\" + \"a\"*5000,              # Output: false\n",
    "    \"\".join([chr((i%26)+97) for i in range(10000)]), # Output: false\n",
    "    \"1\"*10000                                # Output: true\n",
    "]"
   ]
  },
  {
   "cell_type": "code",
   "execution_count": 13,
   "metadata": {},
   "outputs": [
    {
     "name": "stdout",
     "output_type": "stream",
     "text": [
      "True\n",
      "False\n",
      "True\n",
      "True\n",
      "True\n",
      "True\n",
      "True\n",
      "True\n",
      "False\n",
      "True\n"
     ]
    }
   ],
   "source": [
    "for t in test_cases:\n",
    "    is_palindrome(t)"
   ]
  }
 ],
 "metadata": {
  "kernelspec": {
   "display_name": "Python 3",
   "language": "python",
   "name": "python3"
  },
  "language_info": {
   "codemirror_mode": {
    "name": "ipython",
    "version": 3
   },
   "file_extension": ".py",
   "mimetype": "text/x-python",
   "name": "python",
   "nbconvert_exporter": "python",
   "pygments_lexer": "ipython3",
   "version": "3.11.6"
  }
 },
 "nbformat": 4,
 "nbformat_minor": 2
}
