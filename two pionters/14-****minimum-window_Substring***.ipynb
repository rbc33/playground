{
 "cells": [
  {
   "cell_type": "markdown",
   "metadata": {},
   "source": [
    "## 14. Minimum Window Substring\n",
    "\n",
    "- **Problem**: Find smallest substring containing all characters of target string\n",
    "- **Example**:\n",
    "  - Input: s=\"ADOBECODEBANC\", t=\"ABC\"\n",
    "  - Output: \"BANC\"\n",
    "- **Key Idea**: Sliding window with character frequency map\n",
    "```python\n",
    "\n",
    "```"
   ]
  },
  {
   "cell_type": "code",
   "execution_count": 40,
   "metadata": {},
   "outputs": [],
   "source": [
    "def win(strings):\n",
    "    s = strings[0]\n",
    "    t = strings[1]\n",
    "    if not s or not t:\n",
    "        return \"\"\n",
    "    \n",
    "    if len(t) ==1:\n",
    "        return t if t in s else \"\" \n",
    "    t_count = {}\n",
    "    for char in t:\n",
    "        t_count[char] = t_count.get(char, 0) + 1\n",
    "\n",
    "    n = len(s)\n",
    "    r = len(t)\n",
    "\n",
    "    while r <= n:\n",
    "        l = 0\n",
    "        while l + r <= n:\n",
    "            sampl_count = {}\n",
    "            for char in s[l:l+r]:\n",
    "                sampl_count[char] = sampl_count.get(char, 0) + 1\n",
    "            # Check if window has enough of each required character\n",
    "            valid = True\n",
    "            for char, count in t_count.items():\n",
    "                if char not in sampl_count or sampl_count[char] < count:\n",
    "                    valid = False\n",
    "                    break\n",
    "                    \n",
    "            if valid:\n",
    "                return s[l:l+r]\n",
    "            l += 1\n",
    "        r += 1\n",
    "    \n",
    "    return \"\"\n",
    "\n",
    "\n"
   ]
  },
  {
   "cell_type": "code",
   "execution_count": null,
   "metadata": {},
   "outputs": [],
   "source": [
    "test_cases = [\n",
    "    (\"ADOBECODEBANC\", \"ABC\"),     # \"BANC\"\n",
    "    (\"a\", \"a\"),                   # \"a\"\n",
    "    (\"a\", \"aa\"),                  # \"\"\n",
    "    (\"\", \"\"),                     # \"\"\n",
    "    (\"AAAAAAAAAA\", \"A\"),         # \"A\"\n",
    "    (\"ABCDEFGHIJK\", \"ZX\"),       # \"\"\n",
    "    (\"aaaaabaab\", \"abb\"),        # \"baab\"\n",
    "]"
   ]
  },
  {
   "cell_type": "code",
   "execution_count": 42,
   "metadata": {},
   "outputs": [
    {
     "name": "stdout",
     "output_type": "stream",
     "text": [
      "Test 1:\n",
      "String: ADOBECODEBANC\n",
      "Target: ABC\n",
      "Result: BANC\n",
      "--------------------\n",
      "Test 2:\n",
      "String: a\n",
      "Target: a\n",
      "Result: a\n",
      "--------------------\n",
      "Test 3:\n",
      "String: a\n",
      "Target: aa\n",
      "Result: \n",
      "--------------------\n",
      "Test 4:\n",
      "String: \n",
      "Target: \n",
      "Result: \n",
      "--------------------\n",
      "Test 5:\n",
      "String: AAAAAAAAAA\n",
      "Target: A\n",
      "Result: A\n",
      "--------------------\n",
      "Test 6:\n",
      "String: ABCDEFGHIJK\n",
      "Target: ZX\n",
      "Result: \n",
      "--------------------\n",
      "Test 7:\n",
      "String: aaaaabaab\n",
      "Target: abb\n",
      "Result: baab\n",
      "--------------------\n"
     ]
    }
   ],
   "source": [
    "for i, t in enumerate(test_cases):\n",
    "    res = win(t)\n",
    "    print(f\"Test {i+1}:\")\n",
    "    print(f\"String: {t[0]}\")\n",
    "    print(f\"Target: {t[1]}\")\n",
    "    print(f\"Result: {res}\")\n",
    "    print(\"-\" * 20)"
   ]
  }
 ],
 "metadata": {
  "kernelspec": {
   "display_name": "Python 3",
   "language": "python",
   "name": "python3"
  },
  "language_info": {
   "codemirror_mode": {
    "name": "ipython",
    "version": 3
   },
   "file_extension": ".py",
   "mimetype": "text/x-python",
   "name": "python",
   "nbconvert_exporter": "python",
   "pygments_lexer": "ipython3",
   "version": "3.11.6"
  }
 },
 "nbformat": 4,
 "nbformat_minor": 2
}
