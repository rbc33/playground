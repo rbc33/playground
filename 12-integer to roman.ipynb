{
 "cells": [
  {
   "cell_type": "markdown",
   "metadata": {},
   "source": [
    "12. Integer to Roman\n",
    "Medium\n",
    "Topics\n",
    "Companies\n",
    "Seven different symbols represent Roman numerals with the following values:\n",
    "\n",
    "Symbol\tValue\n",
    "I\t1\n",
    "V\t5\n",
    "X\t10\n",
    "L\t50\n",
    "C\t100\n",
    "D\t500\n",
    "M\t1000\n",
    "Roman numerals are formed by appending the conversions of decimal place values from highest to lowest. Converting a decimal place value into a Roman numeral has the following rules:\n",
    "\n",
    "If the value does not start with 4 or 9, select the symbol of the maximal value that can be subtracted from the input, append that symbol to the result, subtract its value, and convert the remainder to a Roman numeral.\n",
    "If the value starts with 4 or 9 use the subtractive form representing one symbol subtracted from the following symbol, for example, 4 is 1 (I) less than 5 (V): IV and 9 is 1 (I) less than 10 (X): IX. Only the following subtractive forms are used: 4 (IV), 9 (IX), 40 (XL), 90 (XC), 400 (CD) and 900 (CM).\n",
    "Only powers of 10 (I, X, C, M) can be appended consecutively at most 3 times to represent multiples of 10. You cannot append 5 (V), 50 (L), or 500 (D) multiple times. If you need to append a symbol 4 times use the subtractive form.\n",
    "Given an integer, convert it to a Roman numeral.\n",
    "\n",
    " \n",
    "\n",
    "Example 1:\n",
    "\n",
    "Input: num = 3749\n",
    "\n",
    "Output: \"MMMDCCXLIX\"\n",
    "\n",
    "Explanation:\n",
    "\n",
    "3000 = MMM as 1000 (M) + 1000 (M) + 1000 (M)\n",
    " 700 = DCC as 500 (D) + 100 (C) + 100 (C)\n",
    "  40 = XL as 10 (X) less of 50 (L)\n",
    "   9 = IX as 1 (I) less of 10 (X)\n",
    "Note: 49 is not 1 (I) less of 50 (L) because the conversion is based on decimal places\n",
    "Example 2:\n",
    "\n",
    "Input: num = 58\n",
    "\n",
    "Output: \"LVIII\"\n",
    "\n",
    "Explanation:\n",
    "\n",
    "50 = L\n",
    " 8 = VIII\n",
    "Example 3:\n",
    "\n",
    "Input: num = 1994\n",
    "\n",
    "Output: \"MCMXCIV\"\n",
    "\n",
    "Explanation:\n",
    "\n",
    "1000 = M\n",
    " 900 = CM\n",
    "  90 = XC\n",
    "   4 = IV\n",
    " \n",
    "\n",
    "Constraints:\n",
    "\n",
    "1 <= num <= 3999"
   ]
  },
  {
   "cell_type": "code",
   "execution_count": 55,
   "metadata": {},
   "outputs": [],
   "source": [
    "def intToRoman(num: int) -> str:\n",
    "    num_str = str(num)\n",
    "    res = \"\"\n",
    "    n = int(num_str[0])\n",
    "    ns = num_str[0]\n",
    "    l = len(num_str)\n",
    "    if l == 4:\n",
    "        res += \"M\"*n\n",
    "        if len(num_str) > 1:\n",
    "            res += intToRoman(int(num_str[1:]))\n",
    "    \n",
    "    if l == 3:\n",
    "        if n not in (9, 4):\n",
    "            if n >= 5:\n",
    "                res += \"C\"*(n-5) + \"D\"\n",
    "            else:\n",
    "                res += \"C\"*n\n",
    "        if n == \"9\":\n",
    "            res += \"CM\" \n",
    "        if n == \"4\":\n",
    "            res += \"CD\"\n",
    "        if len(num_str) > 1:\n",
    "            res += intToRoman(int(num_str[1:]))\n",
    "    if l==2:\n",
    "        if n == 9:\n",
    "            res += \"XC\"\n",
    "        elif n == 4:\n",
    "            res += \"XL\"\n",
    "        elif n >= 5:\n",
    "            res += \"L\" + \"X\" * (n - 5)\n",
    "        else:\n",
    "            res += \"X\" * n\n",
    "        if len(num_str) > 1:\n",
    "            res += intToRoman(int(num_str[1:]))\n",
    "    if l==1:\n",
    "        if n == 9:\n",
    "            res += \"IX\"\n",
    "        elif n == 4:\n",
    "            res += \"IV\"\n",
    "        elif n >= 5:\n",
    "            res += \"V\" + \"I\" * (n - 5)\n",
    "        else:\n",
    "            res += \"I\" * n\n",
    "\n",
    "    return res   "
   ]
  },
  {
   "cell_type": "code",
   "execution_count": null,
   "metadata": {},
   "outputs": [],
   "source": [
    "def intToRoman(self, num: int) -> str:\n",
    "        M=[\"\",\"M\",\"MM\",\"MMM\"]\n",
    "        C=[\"\",\"C\",\"CC\",\"CCC\",\"CD\",\"D\",\"DC\",\"DCC\",\"DCCC\",\"CM\"]\n",
    "        X=[\"\",\"X\",\"XX\",\"XXX\",\"XL\",\"L\",\"LX\",\"LXX\",\"LXXX\",\"XC\"]\n",
    "        I=[\"\",\"I\",\"II\",\"III\",\"IV\",\"V\",\"VI\",\"VII\",\"VIII\",\"IX\"]\n",
    "        return M[num//1000]+C[num%1000//100]+X[num%1000%100//10]+I[num%1000%100%10]"
   ]
  },
  {
   "cell_type": "markdown",
   "metadata": {},
   "source": []
  },
  {
   "cell_type": "code",
   "execution_count": 56,
   "metadata": {},
   "outputs": [
    {
     "name": "stdout",
     "output_type": "stream",
     "text": [
      "MMMCCDXLIX\n"
     ]
    }
   ],
   "source": [
    "num = 3749\n",
    "res = intToRoman(num)\n",
    "print(res)"
   ]
  }
 ],
 "metadata": {
  "kernelspec": {
   "display_name": "Python 3",
   "language": "python",
   "name": "python3"
  },
  "language_info": {
   "codemirror_mode": {
    "name": "ipython",
    "version": 3
   },
   "file_extension": ".py",
   "mimetype": "text/x-python",
   "name": "python",
   "nbconvert_exporter": "python",
   "pygments_lexer": "ipython3",
   "version": "3.11.6"
  }
 },
 "nbformat": 4,
 "nbformat_minor": 2
}
