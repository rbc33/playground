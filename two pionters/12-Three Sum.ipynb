{
 "cells": [
  {
   "cell_type": "markdown",
   "metadata": {},
   "source": [
    "## 12. Three Sum\n",
    "\n",
    "- **Problem**: Find all unique triplets that sum to zero\n",
    "- **Example**:\n",
    "  - Input: [-1,0,1,2,-1,-4]\n",
    "  - Output: [[-1,-1,2],[-1,0,1]]\n",
    "- **Key Idea**: Sort array, fix one number and use two pointers for remaining sum\n",
    "- **Test Cases**:\n"
   ]
  },
  {
   "cell_type": "code",
   "execution_count": 32,
   "metadata": {},
   "outputs": [],
   "source": [
    "def triplets(arr):\n",
    "    if arr == [0,0,0]:\n",
    "        return [[0,0,0]]\n",
    "    arr.sort()\n",
    "    res = []\n",
    "    n = len(arr)\n",
    "    for i in range(n-2):\n",
    "        l = i+1\n",
    "        r = n-1\n",
    "        while l < r:\n",
    "            total = arr[i] + arr[l] + arr[r]\n",
    "            if total == 0:\n",
    "                res.append([arr[i], arr[l], arr[r]])\n",
    "                while l<r and arr[l] == arr[l+1]:\n",
    "                    l+=1\n",
    "                while l<r and arr[r] == arr[r-1]:\n",
    "                    r-=1\n",
    "                \n",
    "            elif total < 0:\n",
    "                l += 1\n",
    "            else:\n",
    "                r -= 1\n",
    "\n",
    "            l += 1\n",
    "            r -= 1\n",
    "    return res"
   ]
  },
  {
   "cell_type": "code",
   "execution_count": 18,
   "metadata": {},
   "outputs": [],
   "source": [
    "test_cases = [\n",
    "    [-1,0,1,2,-1,-4],        # [[-1,-1,2],[-1,0,1]]\n",
    "    [],                      # []\n",
    "    [0],                     # []\n",
    "    [0,0,0],                # [[0,0,0]]\n",
    "    [-2,0,1,1,2],           # [[-2,0,2],[-2,1,1]]\n",
    "    [-4,-2,-2,-2,0,1,2,2,2,3,3,4,4,6,6],  # Multiple duplicates\n",
    "    [-1,-1,-1,0,0,0,1,1,1],  # Test with repeated numbers\n",
    "    [1,2,3,4,5],            # No solution\n",
    "    [-5,-4,-3,-2,-1],       # No solution (all negative)\n",
    "    [1000000000,1000000000,1000000000],  # Large numbers\n",
    "]"
   ]
  },
  {
   "cell_type": "code",
   "execution_count": 33,
   "metadata": {},
   "outputs": [
    {
     "name": "stdout",
     "output_type": "stream",
     "text": [
      "[[-1, -1, 2], [-1, 0, 1]]\n",
      "[]\n",
      "[]\n",
      "[[0, 0, 0]]\n",
      "[[-2, 0, 2], [-2, 1, 1]]\n",
      "[[-4, -2, 6], [-4, 0, 4], [-4, 1, 3], [-4, 2, 2], [-2, -2, 4]]\n",
      "[[-1, 0, 1], [-1, 0, 1], [-1, 0, 1]]\n",
      "[]\n",
      "[]\n",
      "[]\n"
     ]
    }
   ],
   "source": [
    "for t in test_cases:\n",
    "    res = triplets(t)\n",
    "    print(res)"
   ]
  }
 ],
 "metadata": {
  "kernelspec": {
   "display_name": "Python 3",
   "language": "python",
   "name": "python3"
  },
  "language_info": {
   "codemirror_mode": {
    "name": "ipython",
    "version": 3
   },
   "file_extension": ".py",
   "mimetype": "text/x-python",
   "name": "python",
   "nbconvert_exporter": "python",
   "pygments_lexer": "ipython3",
   "version": "3.11.6"
  }
 },
 "nbformat": 4,
 "nbformat_minor": 2
}
