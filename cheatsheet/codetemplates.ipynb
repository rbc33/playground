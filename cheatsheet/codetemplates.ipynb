{
 "cells": [
  {
   "cell_type": "markdown",
   "metadata": {},
   "source": [
    "**Two pointers: one input, opposite ends**"
   ]
  },
  {
   "cell_type": "code",
   "execution_count": null,
   "metadata": {
    "vscode": {
     "languageId": "plaintext"
    }
   },
   "outputs": [],
   "source": [
    "def fn(arr):\n",
    "    left = ans = 0\n",
    "    right = len(arr) - 1\n",
    "\n",
    "    while left < right:\n",
    "        # do some logic here with left and right\n",
    "        if CONDITION:\n",
    "            left += 1\n",
    "        else:\n",
    "            right -= 1\n",
    "    \n",
    "    return ans\n"
   ]
  },
  {
   "cell_type": "markdown",
   "metadata": {},
   "source": [
    "**Two pointers: two inputs, exhaust both**"
   ]
  },
  {
   "cell_type": "code",
   "execution_count": null,
   "metadata": {
    "vscode": {
     "languageId": "plaintext"
    }
   },
   "outputs": [],
   "source": [
    "def fn(arr1, arr2):\n",
    "    i = j = ans = 0\n",
    "\n",
    "    while i < len(arr1) and j < len(arr2):\n",
    "        # do some logic here\n",
    "        if CONDITION:\n",
    "            i += 1\n",
    "        else:\n",
    "            j += 1\n",
    "    \n",
    "    while i < len(arr1):\n",
    "        # do logic\n",
    "        i += 1\n",
    "    \n",
    "    while j < len(arr2):\n",
    "        # do logic\n",
    "        j += 1\n",
    "    \n",
    "    return ans\n"
   ]
  },
  {
   "cell_type": "markdown",
   "metadata": {},
   "source": [
    "**Sliding window**"
   ]
  },
  {
   "cell_type": "code",
   "execution_count": null,
   "metadata": {
    "vscode": {
     "languageId": "plaintext"
    }
   },
   "outputs": [],
   "source": [
    "def fn(arr):\n",
    "    left = ans = curr = 0\n",
    "\n",
    "    for right in range(len(arr)):\n",
    "        # do logic here to add arr[right] to curr\n",
    "\n",
    "        while WINDOW_CONDITION_BROKEN:\n",
    "            # remove arr[left] from curr\n",
    "            left += 1\n",
    "\n",
    "        # update ans\n",
    "    \n",
    "    return ans"
   ]
  },
  {
   "cell_type": "markdown",
   "metadata": {},
   "source": [
    "**Build a prefix sum**\n",
    "\n"
   ]
  },
  {
   "cell_type": "code",
   "execution_count": null,
   "metadata": {
    "vscode": {
     "languageId": "plaintext"
    }
   },
   "outputs": [],
   "source": [
    "def fn(arr):\n",
    "    prefix = [arr[0]]\n",
    "    for i in range(1, len(arr)):\n",
    "        prefix.append(prefix[-1] + arr[i])\n",
    "    \n",
    "    return prefix"
   ]
  },
  {
   "cell_type": "markdown",
   "metadata": {},
   "source": [
    "**Efficient string building**"
   ]
  },
  {
   "cell_type": "code",
   "execution_count": null,
   "metadata": {
    "vscode": {
     "languageId": "plaintext"
    }
   },
   "outputs": [],
   "source": [
    "# arr is a list of characters\n",
    "def fn(arr):\n",
    "    ans = []\n",
    "    for c in arr:\n",
    "        ans.append(c)\n",
    "    \n",
    "    return \"\".join(ans)"
   ]
  },
  {
   "cell_type": "markdown",
   "metadata": {},
   "source": [
    "**Linked list: fast and slow pointer**\n",
    "\n"
   ]
  },
  {
   "cell_type": "code",
   "execution_count": null,
   "metadata": {
    "vscode": {
     "languageId": "plaintext"
    }
   },
   "outputs": [],
   "source": [
    "def fn(head):\n",
    "    slow = head\n",
    "    fast = head\n",
    "    ans = 0\n",
    "\n",
    "    while fast and fast.next:\n",
    "        # do logic\n",
    "        slow = slow.next\n",
    "        fast = fast.next.next\n",
    "    \n",
    "    return ans"
   ]
  },
  {
   "cell_type": "markdown",
   "metadata": {},
   "source": [
    "**Reversing a linked list**"
   ]
  },
  {
   "cell_type": "code",
   "execution_count": null,
   "metadata": {
    "vscode": {
     "languageId": "plaintext"
    }
   },
   "outputs": [],
   "source": [
    "def fn(head):\n",
    "    curr = head\n",
    "    prev = None\n",
    "    while curr:\n",
    "        next_node = curr.next\n",
    "        curr.next = prev\n",
    "        prev = curr\n",
    "        curr = next_node \n",
    "        \n",
    "    return prev"
   ]
  },
  {
   "cell_type": "markdown",
   "metadata": {},
   "source": [
    "**Find number of subarrays that fit an exact criteria**"
   ]
  },
  {
   "cell_type": "markdown",
   "metadata": {},
   "source": [
    "```python\n",
    "from collections import defaultdict\n",
    "\n",
    "def fn(arr, k):\n",
    "    counts = defaultdict(int)\n",
    "    counts[0] = 1\n",
    "    ans = curr = 0\n",
    "\n",
    "    for num in arr:\n",
    "        # do logic to change curr\n",
    "        ans += counts[curr - k]\n",
    "        counts[curr] += 1\n",
    "    \n",
    "    return ans\n",
    "```"
   ]
  },
  {
   "cell_type": "markdown",
   "metadata": {},
   "source": [
    "**Monotonic increasing stack**\n",
    "\n",
    "The same logic can be applied to maintain a monotonic queue.\n",
    "\n",
    "```python\n",
    "def fn(arr):\n",
    "    stack = []\n",
    "    ans = 0\n",
    "\n",
    "    for num in arr:\n",
    "        # for monotonic decreasing, just flip the > to <\n",
    "        while stack and stack[-1] > num:\n",
    "            # do logic\n",
    "            stack.pop()\n",
    "        stack.append(num)\n",
    "    \n",
    "    return ans\n",
    "```"
   ]
  },
  {
   "cell_type": "markdown",
   "metadata": {},
   "source": [
    "**Binary tree: DFS (recursive)**\n",
    "\n",
    "```python\n",
    "def dfs(root):\n",
    "    if not root:\n",
    "        return\n",
    "    \n",
    "    ans = 0\n",
    "\n",
    "    # do logic\n",
    "    dfs(root.left)\n",
    "    dfs(root.right)\n",
    "    return ans\n",
    "```"
   ]
  },
  {
   "cell_type": "code",
   "execution_count": null,
   "metadata": {
    "vscode": {
     "languageId": "plaintext"
    }
   },
   "outputs": [],
   "source": [
    "def dfs(root):\n",
    "    if not root:\n",
    "        return\n",
    "    \n",
    "    ans = 0\n",
    "\n",
    "    # do logic\n",
    "    dfs(root.left)\n",
    "    dfs(root.right)\n",
    "    return ans"
   ]
  },
  {
   "cell_type": "markdown",
   "metadata": {},
   "source": [
    "**Binary tree: DFS (iterative)**\n",
    "\n"
   ]
  },
  {
   "cell_type": "code",
   "execution_count": null,
   "metadata": {
    "vscode": {
     "languageId": "plaintext"
    }
   },
   "outputs": [],
   "source": [
    "def dfs(root):\n",
    "    stack = [root]\n",
    "    ans = 0\n",
    "\n",
    "    while stack:\n",
    "        node = stack.pop()\n",
    "        # do logic\n",
    "        if node.left:\n",
    "            stack.append(node.left)\n",
    "        if node.right:\n",
    "            stack.append(node.right)\n",
    "\n",
    "    return ans"
   ]
  },
  {
   "cell_type": "markdown",
   "metadata": {},
   "source": [
    "**Binary tree: BFS**"
   ]
  },
  {
   "cell_type": "code",
   "execution_count": null,
   "metadata": {
    "vscode": {
     "languageId": "plaintext"
    }
   },
   "outputs": [],
   "source": [
    "from collections import deque\n",
    "\n",
    "def fn(root):\n",
    "    queue = deque([root])\n",
    "    ans = 0\n",
    "\n",
    "    while queue:\n",
    "        current_length = len(queue)\n",
    "        # do logic for current level\n",
    "\n",
    "        for _ in range(current_length):\n",
    "            node = queue.popleft()\n",
    "            # do logic\n",
    "            if node.left:\n",
    "                queue.append(node.left)\n",
    "            if node.right:\n",
    "                queue.append(node.right)\n",
    "\n",
    "    return ans"
   ]
  },
  {
   "cell_type": "markdown",
   "metadata": {},
   "source": [
    "**Graph: DFS (recursive)**\n",
    "\n",
    "For the graph templates, assume the nodes are numbered from `0` to `n - 1` and the graph is given as an adjacency list. Depending on the problem, you may need to convert the input into an equivalent adjacency list before using the templates."
   ]
  },
  {
   "cell_type": "code",
   "execution_count": null,
   "metadata": {
    "vscode": {
     "languageId": "plaintext"
    }
   },
   "outputs": [],
   "source": [
    "def fn(graph):\n",
    "    def dfs(node):\n",
    "        ans = 0\n",
    "        # do some logic\n",
    "        for neighbor in graph[node]:\n",
    "            if neighbor not in seen:\n",
    "                seen.add(neighbor)\n",
    "                ans += dfs(neighbor)\n",
    "        \n",
    "        return ans\n",
    "\n",
    "    seen = {START_NODE}\n",
    "    return dfs(START_NODE)"
   ]
  },
  {
   "cell_type": "markdown",
   "metadata": {},
   "source": [
    "**Graph: DFS (iterative)**"
   ]
  },
  {
   "cell_type": "code",
   "execution_count": null,
   "metadata": {
    "vscode": {
     "languageId": "plaintext"
    }
   },
   "outputs": [],
   "source": [
    "def fn(graph):\n",
    "    stack = [START_NODE]\n",
    "    seen = {START_NODE}\n",
    "    ans = 0\n",
    "\n",
    "    while stack:\n",
    "        node = stack.pop()\n",
    "        # do some logic\n",
    "        for neighbor in graph[node]:\n",
    "            if neighbor not in seen:\n",
    "                seen.add(neighbor)\n",
    "                stack.append(neighbor)\n",
    "    \n",
    "    return ans"
   ]
  },
  {
   "cell_type": "markdown",
   "metadata": {},
   "source": [
    "**Graph: BFS**"
   ]
  },
  {
   "cell_type": "code",
   "execution_count": null,
   "metadata": {
    "vscode": {
     "languageId": "plaintext"
    }
   },
   "outputs": [],
   "source": [
    "from collections import deque\n",
    "\n",
    "def fn(graph):\n",
    "    queue = deque([START_NODE])\n",
    "    seen = {START_NODE}\n",
    "    ans = 0\n",
    "\n",
    "    while queue:\n",
    "        node = queue.popleft()\n",
    "        # do some logic\n",
    "        for neighbor in graph[node]:\n",
    "            if neighbor not in seen:\n",
    "                seen.add(neighbor)\n",
    "                queue.append(neighbor)\n",
    "    \n",
    "    return ans"
   ]
  },
  {
   "cell_type": "markdown",
   "metadata": {},
   "source": [
    "**Find top k elements with heap**"
   ]
  },
  {
   "cell_type": "code",
   "execution_count": null,
   "metadata": {
    "vscode": {
     "languageId": "plaintext"
    }
   },
   "outputs": [],
   "source": [
    "import heapq\n",
    "\n",
    "def fn(arr, k):\n",
    "    heap = []\n",
    "    for num in arr:\n",
    "        # do some logic to push onto heap according to problem's criteria\n",
    "        heapq.heappush(heap, (CRITERIA, num))\n",
    "        if len(heap) > k:\n",
    "            heapq.heappop(heap)\n",
    "    \n",
    "    return [num for num in heap]"
   ]
  },
  {
   "cell_type": "markdown",
   "metadata": {},
   "source": [
    "**Binary search**\n",
    "```python\n",
    "def fn(arr, target):\n",
    "    left = 0\n",
    "    right = len(arr) - 1\n",
    "    while left <= right:\n",
    "        mid = (left + right) // 2\n",
    "        if arr[mid] == target:\n",
    "            # do something\n",
    "            return\n",
    "        if arr[mid] > target:\n",
    "            right = mid - 1\n",
    "        else:\n",
    "            left = mid + 1\n",
    "    \n",
    "    # left is the insertion point\n",
    "    return left\n",
    "```"
   ]
  },
  {
   "cell_type": "markdown",
   "metadata": {},
   "source": [
    "**Binary search: duplicate elements, left-most insertion point**\n",
    "```python\n",
    "def fn(arr, target):\n",
    "    left = 0\n",
    "    right = len(arr)\n",
    "    while left < right:\n",
    "        mid = (left + right) // 2\n",
    "        if arr[mid] >= target:\n",
    "            right = mid\n",
    "        else:\n",
    "            left = mid + 1\n",
    "\n",
    "    return left\n",
    "```"
   ]
  },
  {
   "cell_type": "markdown",
   "metadata": {},
   "source": [
    "**Binary search: duplicate elements, right-most insertion point**"
   ]
  },
  {
   "cell_type": "code",
   "execution_count": null,
   "metadata": {
    "vscode": {
     "languageId": "plaintext"
    }
   },
   "outputs": [],
   "source": [
    "def fn(arr, target):\n",
    "    left = 0\n",
    "    right = len(arr)\n",
    "    while left < right:\n",
    "        mid = (left + right) // 2\n",
    "        if arr[mid] > target:\n",
    "            right = mid\n",
    "        else:\n",
    "            left = mid + 1\n",
    "\n",
    "    return left"
   ]
  },
  {
   "cell_type": "markdown",
   "metadata": {},
   "source": [
    "**Binary search: for greedy problems**\n",
    "\n",
    "If looking for a minimum:\n",
    "\n"
   ]
  },
  {
   "cell_type": "code",
   "execution_count": null,
   "metadata": {
    "vscode": {
     "languageId": "plaintext"
    }
   },
   "outputs": [],
   "source": [
    "def fn(arr):\n",
    "    def check(x):\n",
    "        # this function is implemented depending on the problem\n",
    "        return BOOLEAN\n",
    "\n",
    "    left = MINIMUM_POSSIBLE_ANSWER\n",
    "    right = MAXIMUM_POSSIBLE_ANSWER\n",
    "    while left <= right:\n",
    "        mid = (left + right) // 2\n",
    "        if check(mid):\n",
    "            right = mid - 1\n",
    "        else:\n",
    "            left = mid + 1\n",
    "    \n",
    "    return left"
   ]
  },
  {
   "cell_type": "markdown",
   "metadata": {},
   "source": [
    "If looking for a maximum:\n",
    "\n"
   ]
  },
  {
   "cell_type": "code",
   "execution_count": null,
   "metadata": {
    "vscode": {
     "languageId": "plaintext"
    }
   },
   "outputs": [],
   "source": [
    "def fn(arr):\n",
    "    def check(x):\n",
    "        # this function is implemented depending on the problem\n",
    "        return BOOLEAN\n",
    "\n",
    "    left = MINIMUM_POSSIBLE_ANSWER\n",
    "    right = MAXIMUM_POSSIBLE_ANSWER\n",
    "    while left <= right:\n",
    "        mid = (left + right) // 2\n",
    "        if check(mid):\n",
    "            left = mid + 1\n",
    "        else:\n",
    "            right = mid - 1\n",
    "    \n",
    "    return right"
   ]
  },
  {
   "cell_type": "markdown",
   "metadata": {},
   "source": [
    "**Backtracking**\n",
    "\n"
   ]
  },
  {
   "cell_type": "code",
   "execution_count": null,
   "metadata": {
    "vscode": {
     "languageId": "plaintext"
    }
   },
   "outputs": [],
   "source": [
    "def backtrack(curr, OTHER_ARGUMENTS...):\n",
    "    if (BASE_CASE):\n",
    "        # modify the answer\n",
    "        return\n",
    "    \n",
    "    ans = 0\n",
    "    for (ITERATE_OVER_INPUT):\n",
    "        # modify the current state\n",
    "        ans += backtrack(curr, OTHER_ARGUMENTS...)\n",
    "        # undo the modification of the current state\n",
    "    \n",
    "    return ans"
   ]
  },
  {
   "cell_type": "markdown",
   "metadata": {},
   "source": [
    "**Dynamic programming: top-down memoization**\n",
    "\n"
   ]
  },
  {
   "cell_type": "code",
   "execution_count": null,
   "metadata": {
    "vscode": {
     "languageId": "plaintext"
    }
   },
   "outputs": [],
   "source": [
    "def fn(arr):\n",
    "    def dp(STATE):\n",
    "        if BASE_CASE:\n",
    "            return 0\n",
    "        \n",
    "        if STATE in memo:\n",
    "            return memo[STATE]\n",
    "        \n",
    "        ans = RECURRENCE_RELATION(STATE)\n",
    "        memo[STATE] = ans\n",
    "        return ans\n",
    "\n",
    "    memo = {}\n",
    "    return dp(STATE_FOR_WHOLE_INPUT)"
   ]
  },
  {
   "cell_type": "markdown",
   "metadata": {},
   "source": [
    "**Build a trie**"
   ]
  },
  {
   "cell_type": "code",
   "execution_count": null,
   "metadata": {
    "vscode": {
     "languageId": "plaintext"
    }
   },
   "outputs": [],
   "source": [
    "# note: using a class is only necessary if you want to store data at each node.\n",
    "# otherwise, you can implement a trie using only hash maps.\n",
    "class TrieNode:\n",
    "    def __init__(self):\n",
    "        # you can store data at nodes if you wish\n",
    "        self.data = None\n",
    "        self.children = {}\n",
    "\n",
    "def fn(words):\n",
    "    root = TrieNode()\n",
    "    for word in words:\n",
    "        curr = root\n",
    "        for c in word:\n",
    "            if c not in curr.children:\n",
    "                curr.children[c] = TrieNode()\n",
    "            curr = curr.children[c]\n",
    "        # at this point, you have a full word at curr\n",
    "        # you can perform more logic here to give curr an attribute if you want\n",
    "    \n",
    "    return root"
   ]
  },
  {
   "cell_type": "markdown",
   "metadata": {},
   "source": [
    "**Dijkstra's algorithm**"
   ]
  },
  {
   "cell_type": "code",
   "execution_count": null,
   "metadata": {
    "vscode": {
     "languageId": "plaintext"
    }
   },
   "outputs": [],
   "source": [
    "from math import inf\n",
    "from heapq import *\n",
    "\n",
    "distances = [inf] * n\n",
    "distances[source] = 0\n",
    "heap = [(0, source)]\n",
    "\n",
    "while heap:\n",
    "    curr_dist, node = heappop(heap)\n",
    "    if curr_dist > distances[node]:\n",
    "        continue\n",
    "    \n",
    "    for nei, weight in graph[node]:\n",
    "        dist = curr_dist + weight\n",
    "        if dist < distances[nei]:\n",
    "            distances[nei] = dist\n",
    "            heappush(heap, (dist, nei))"
   ]
  }
 ],
 "metadata": {
  "language_info": {
   "name": "python"
  }
 },
 "nbformat": 4,
 "nbformat_minor": 2
}
