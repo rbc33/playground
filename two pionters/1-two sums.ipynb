{
 "cells": [
  {
   "cell_type": "markdown",
   "metadata": {},
   "source": [
    "\n",
    "# Two Sum II - Input Array Is Sorted\n",
    "\n",
    "Given a 1-indexed array of integers numbers that is already sorted in non-decreasing order, \n",
    "find two numbers such that they add up to a specific target number.\n",
    "\n",
    "Return the indices of the two numbers, index1 and index2, as a 1-indexed array.\n",
    "\n",
    "Example:\n",
    "#### Input: numbers = [2,7,11,15], target = 9\n",
    "#### Output: [1,2]\n",
    "#### Explanation: The sum of 2 and 7 is 9. Therefore, index1 = 1, index2 = 2.\n",
    "\"\"\""
   ]
  },
  {
   "cell_type": "code",
   "execution_count": 9,
   "metadata": {},
   "outputs": [],
   "source": [
    "def pair_sum_to_target(input):\n",
    "    \n",
    "    # Create a dictionary.\n",
    "    # Each element of the input_list would become a \"key\", and\n",
    "    # the corresponding index in the input_list would become the \"value\"\n",
    "    index_dict = dict()\n",
    "    input_list = input[0]\n",
    "    target = input[1]\n",
    "    \n",
    "    # Traverse through the input_list\n",
    "    for index, element in enumerate(input_list):\n",
    "        \n",
    "        # `in` is the way to test for the existence of a \"key\" in a dictionary\n",
    "        if (target - element) in index_dict:\n",
    "            \n",
    "            # Return the TWO indices that sum to the target\n",
    "            return [index_dict[target - element]+1, index+1]\n",
    "\n",
    "        index_dict[element] = index\n",
    "\n",
    "    return [-1,-1]              # If the target is not achieved\n"
   ]
  },
  {
   "cell_type": "code",
   "execution_count": 15,
   "metadata": {},
   "outputs": [],
   "source": [
    "def sum_pairs(input):\n",
    "    arr = input[0]\n",
    "    target = input[1]\n",
    "    n = len(arr)\n",
    "    l = 0\n",
    "    r = n-1\n",
    "\n",
    "    while l<r:\n",
    "        current_sum = arr[l] + arr[r]\n",
    "        if current_sum == target:\n",
    "            return [l+1, r+1]\n",
    "        if current_sum < target:       # Mover el puntero con la altura menor\n",
    "            l += 1\n",
    "        else:\n",
    "            r -= 1\n",
    "    \n",
    "\n"
   ]
  },
  {
   "cell_type": "code",
   "execution_count": 11,
   "metadata": {},
   "outputs": [],
   "source": [
    "test_cases = [\n",
    "    ([2,7,11,15], 9),     # Output: [1,2]\n",
    "    ([2,3,4], 6),         # Output: [1,3]\n",
    "    ([1,2,3,4,5], 9),     # Output: [4,5]\n",
    "    ([-1,0], -1),         # Output: [1,2]\n",
    "    ([1,1], 2),           # Output: [1,2]\n",
    "      ([i for i in range(1, 10001)], 10000),    # Output: [1,9999]\n",
    "    \n",
    "    # Long array with many duplicates\n",
    "    ([1]*9998 + [2,3], 5),                    # Output: [9999,10000]\n",
    "    \n",
    "    # Long array with target in middle\n",
    "    ([i for i in range(-5000, 5001)], 0),     # Output: [5000,5001]\n",
    "    \n",
    "    # Array with maximum allowed values\n",
    "    ([-100000, -50000, 0, 50000, 100000], 0), # Output: [3,4]\n",
    "    \n",
    "    # Array with all same values except one\n",
    "    ([5]*9999 + [10], 15),      \n",
    "]"
   ]
  },
  {
   "cell_type": "code",
   "execution_count": 16,
   "metadata": {},
   "outputs": [
    {
     "name": "stdout",
     "output_type": "stream",
     "text": [
      "[1, 2]\n",
      "[1, 3]\n",
      "[4, 5]\n",
      "[1, 2]\n",
      "[1, 2]\n",
      "[1, 9999]\n",
      "[9999, 10000]\n",
      "[1, 10001]\n",
      "[1, 5]\n",
      "[1, 10000]\n"
     ]
    }
   ],
   "source": [
    "for t in test_cases:\n",
    "    res = sum_pairs(t)\n",
    "    print(res)"
   ]
  }
 ],
 "metadata": {
  "kernelspec": {
   "display_name": "Python 3",
   "language": "python",
   "name": "python3"
  },
  "language_info": {
   "codemirror_mode": {
    "name": "ipython",
    "version": 3
   },
   "file_extension": ".py",
   "mimetype": "text/x-python",
   "name": "python",
   "nbconvert_exporter": "python",
   "pygments_lexer": "ipython3",
   "version": "3.11.6"
  }
 },
 "nbformat": 4,
 "nbformat_minor": 2
}
