{
 "cells": [
  {
   "cell_type": "markdown",
   "metadata": {},
   "source": [
    "14. Longest Common Prefix\n",
    "Easy\n",
    "Topics\n",
    "Companies\n",
    "Write a function to find the longest common prefix string amongst an array of strings.\n",
    "\n",
    "If there is no common prefix, return an empty string \"\".\n",
    "\n",
    " \n",
    "\n",
    "Example 1:\n",
    "\n",
    "Input: strs = [\"flower\",\"flow\",\"flight\"]\n",
    "Output: \"fl\"\n",
    "Example 2:\n",
    "\n",
    "Input: strs = [\"dog\",\"racecar\",\"car\"]\n",
    "Output: \"\"\n",
    "Explanation: There is no common prefix among the input strings.\n",
    " \n",
    "\n",
    "Constraints:\n",
    "\n",
    "1 <= strs.length <= 200\n",
    "0 <= strs[i].length <= 200\n",
    "strs[i] consists of only lowercase English letters if it is non-empty.\n",
    "Seen this question in a real interview before?\n",
    "1/5\n",
    "Yes\n",
    "No"
   ]
  },
  {
   "cell_type": "code",
   "execution_count": 41,
   "metadata": {},
   "outputs": [],
   "source": [
    "def longestCommonPrefix( strs) -> str:\n",
    "    if len(strs) == 1:\n",
    "        return strs[0]\n",
    "    prf = strs[0]\n",
    "\n",
    "    for i, val in enumerate(strs):\n",
    "        if val == \"\":\n",
    "            return \"\"\n",
    "        if i != 0 and val in prf[:len(val)]:\n",
    "            prf = val\n",
    "        if val != prf and not val.startswith(prf[0]):\n",
    "            return \"\"\n",
    "        for j, val_j in enumerate(val):                \n",
    "            if val_j != prf[j]:\n",
    "                perf = prf[0:j]\n",
    "    return prf\n"
   ]
  },
  {
   "cell_type": "code",
   "execution_count": null,
   "metadata": {},
   "outputs": [],
   "source": [
    "def longestCommonPrefix(self, strs: List[str]) -> str:\n",
    "    pref = strs[0]\n",
    "\n",
    "    pref_len = len(pref)\n",
    "    \n",
    "    for s in strs[1:]:\n",
    "        while pref != s[0:pref_len]:\n",
    "            pref_len -= 1\n",
    "            if pref_len == 0:\n",
    "                return \"\"\n",
    "            \n",
    "            pref = pref[0:pref_len]\n",
    "    \n",
    "    return pref"
   ]
  },
  {
   "cell_type": "code",
   "execution_count": 42,
   "metadata": {},
   "outputs": [
    {
     "name": "stdout",
     "output_type": "stream",
     "text": [
      "\n"
     ]
    }
   ],
   "source": [
    "strs = [\"ab\",\"a\"]\n",
    "strs = [\"reflower\",\"flow\",\"flight\"]\n",
    "strs = [\"baab\",\"bacb\",\"b\",\"cbc\"]\n",
    "pre = longestCommonPrefix(strs)\n",
    "print(pre)"
   ]
  }
 ],
 "metadata": {
  "kernelspec": {
   "display_name": "Python 3",
   "language": "python",
   "name": "python3"
  },
  "language_info": {
   "codemirror_mode": {
    "name": "ipython",
    "version": 3
   },
   "file_extension": ".py",
   "mimetype": "text/x-python",
   "name": "python",
   "nbconvert_exporter": "python",
   "pygments_lexer": "ipython3",
   "version": "3.11.6"
  }
 },
 "nbformat": 4,
 "nbformat_minor": 2
}
