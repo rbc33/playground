{
 "cells": [
  {
   "cell_type": "markdown",
   "metadata": {},
   "source": [
    "## 1. Fibonacci Sequence\n",
    "\n",
    "- **Problem**: Calculate the nth Fibonacci number.\n",
    "- **Description**: The Fibonacci sequence is defined as F(n) = F(n-1) + F(n-2) with base cases F(0) = 0 and F(1) = 1.\n",
    "- **Example**:\n",
    "  - Input: n = 6\n",
    "  - Output: 8 (The sequence is 0, 1, 1, 2, 3, 5, 8, ...)\n",
    "- **Approach**: Use memoization to avoid recalculating values.\n",
    "- **Test Cases**:\n",
    "\n",
    "```python\n",
    "test_cases = [\n",
    "    0,    # 0\n",
    "    1,    # 1\n",
    "    2,    # 1\n",
    "    5,    # 5\n",
    "    10,   # 55\n",
    "    20,   # 6765\n",
    "    40    # 102334155\n",
    "]\n",
    "````"
   ]
  },
  {
   "cell_type": "code",
   "execution_count": 10,
   "metadata": {},
   "outputs": [],
   "source": [
    "def fib(n):\n",
    "    if n<2:\n",
    "        return n\n",
    "    dp = [n**2] * (n+1)\n",
    "    dp[0] = 0\n",
    "    dp[1] = 1\n",
    "    for i in range(2, n+1):\n",
    "        dp[i] = dp[i-1] + dp[i-2]\n",
    "    return dp[n]"
   ]
  },
  {
   "cell_type": "code",
   "execution_count": 21,
   "metadata": {},
   "outputs": [],
   "source": [
    "def fib(num):\n",
    "    if num < 2:\n",
    "        return num\n",
    "    if num == 2:\n",
    "        return 1\n",
    "    dp_1 = 1\n",
    "    dp_2 = 1\n",
    "    for i in range(3, num+1):\n",
    "        curr = dp_1 + dp_2 \n",
    "        dp_1 = dp_2\n",
    "        dp_2 = curr\n",
    "    return curr\n"
   ]
  },
  {
   "cell_type": "code",
   "execution_count": 22,
   "metadata": {},
   "outputs": [
    {
     "name": "stdout",
     "output_type": "stream",
     "text": [
      "0\n",
      "1\n",
      "1\n",
      "5\n",
      "55\n",
      "6765\n",
      "102334155\n"
     ]
    }
   ],
   "source": [
    "test_cases = [\n",
    "    0,    # 0\n",
    "    1,    # 1\n",
    "    2,    # 1\n",
    "    5,    # 5\n",
    "    10,   # 55\n",
    "    20,   # 6765\n",
    "    40    # 102334155\n",
    "]\n",
    "for t in test_cases:\n",
    "    res = fib(t)\n",
    "    print(res)"
   ]
  }
 ],
 "metadata": {
  "kernelspec": {
   "display_name": "Python 3",
   "language": "python",
   "name": "python3"
  },
  "language_info": {
   "codemirror_mode": {
    "name": "ipython",
    "version": 3
   },
   "file_extension": ".py",
   "mimetype": "text/x-python",
   "name": "python",
   "nbconvert_exporter": "python",
   "pygments_lexer": "ipython3",
   "version": "3.11.6"
  }
 },
 "nbformat": 4,
 "nbformat_minor": 2
}
