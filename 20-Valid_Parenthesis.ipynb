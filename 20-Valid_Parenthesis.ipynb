{
 "cells": [
  {
   "cell_type": "markdown",
   "metadata": {},
   "source": [
    "[20\\. Valid Parentheses](https://leetcode.com/problems/valid-parentheses/)\n",
    "\n",
    "Attempted\n",
    "\n",
    "Easy\n",
    "\n",
    "Topics\n",
    "\n",
    "Companies\n",
    "\n",
    "Hint\n",
    "\n",
    "Given a string `s` containing just the characters `'('`, `')'`, `'{'`, `'}'`, `'['` and `']'`, determine if the input string is valid.\n",
    "\n",
    "An input string is valid if:\n",
    "\n",
    "1. Open brackets must be closed by the same type of brackets.\n",
    "2. Open brackets must be closed in the correct order.\n",
    "3. Every close bracket has a corresponding open bracket of the same type.\n",
    "\n",
    "**Example 1:**\n",
    "\n",
    "**Input:** s = \"()\"\n",
    "\n",
    "**Output:** true\n",
    "\n",
    "**Example 2:**\n",
    "\n",
    "**Input:** s = \"()\\[\\]{}\"\n",
    "\n",
    "**Output:** true\n",
    "\n",
    "**Example 3:**\n",
    "\n",
    "**Input:** s = \"(\\]\"\n",
    "\n",
    "**Output:** false\n",
    "\n",
    "**Example 4:**\n",
    "\n",
    "**Input:** s = \"(\\[\\])\"\n",
    "\n",
    "**Output:** true\n",
    "\n",
    "**Constraints:**\n",
    "\n",
    "- `1 <= s.length <= 10<sup>4</sup>`\n",
    "- `s` consists of parentheses only `'()[]{}'`."
   ]
  },
  {
   "cell_type": "code",
   "execution_count": 7,
   "metadata": {},
   "outputs": [
    {
     "name": "stdout",
     "output_type": "stream",
     "text": [
      "False\n"
     ]
    }
   ],
   "source": [
    "def isValid( s: str) -> bool:\n",
    "    sol = \"\"\n",
    "    for i, c in enumerate(s):\n",
    "        if c in [\"(\",\")\",\"[\",\"]\",\"{\",\"}\"]:\n",
    "            sol += c\n",
    "    for i, val in enumerate(sol):\n",
    "        if val==\"(\" and sol[:-i-1] != \")\":\n",
    "            return False\n",
    "        if val==\"{\" and sol[:-i-1] != \"}\":\n",
    "            return False\n",
    "        if val==\"[\" and sol[:-i-1] != \"]\":\n",
    "            return False\n",
    "bol = isValid(\"()\") \n",
    "print(bol)"
   ]
  },
  {
   "cell_type": "code",
   "execution_count": null,
   "metadata": {},
   "outputs": [],
   "source": [
    "def isValid(s: str) -> bool:\n",
    "    stack = []\n",
    "    pairs = {\n",
    "        ')': '(',\n",
    "        '}': '{',\n",
    "        ']': '['\n",
    "    }\n",
    "    \n",
    "    for char in s:\n",
    "        if char in '({[':  # Si es paréntesis de apertura\n",
    "            stack.append(char)\n",
    "        elif char in ')}]':  # Si es paréntesis de cierre\n",
    "            if not stack:  # Stack vacío pero hay cierre\n",
    "                return False\n",
    "            if stack.pop() != pairs[char]:  # El último abierto no coincide\n",
    "                return False\n",
    "    \n",
    "    return len(stack) == 0  # True si todos los paréntesis se cerraron\n",
    "\n",
    "bol = isValid(\"()\")\n",
    "print(bol)\n"
   ]
  }
 ],
 "metadata": {
  "kernelspec": {
   "display_name": "Python 3",
   "language": "python",
   "name": "python3"
  },
  "language_info": {
   "codemirror_mode": {
    "name": "ipython",
    "version": 3
   },
   "file_extension": ".py",
   "mimetype": "text/x-python",
   "name": "python",
   "nbconvert_exporter": "python",
   "pygments_lexer": "ipython3",
   "version": "3.11.6"
  }
 },
 "nbformat": 4,
 "nbformat_minor": 2
}
