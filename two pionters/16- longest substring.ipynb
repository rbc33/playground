{
 "cells": [
  {
   "cell_type": "markdown",
   "metadata": {},
   "source": [
    "## 16. Longest Substring Without Repeating Characters\n",
    "\n",
    "- **Problem**: Find longest substring without duplicate characters\n",
    "- **Example**:\n",
    "  - Input: \"abcabcbb\"\n",
    "  - Output: 3 (\"abc\")\n",
    "- **Key Idea**: Sliding window with character set\n"
   ]
  },
  {
   "cell_type": "code",
   "execution_count": 30,
   "metadata": {},
   "outputs": [],
   "source": [
    "def lss(s):\n",
    "    n = len(s)-1\n",
    "    lp = 0\n",
    "    res = \"\"\n",
    "    curr = \"\"\n",
    "    while lp <= n-1:\n",
    "        rp = lp\n",
    "        while rp <= n:\n",
    "            if s[rp] not in curr:\n",
    "                curr += s[rp]\n",
    "                rp += 1\n",
    "            else:\n",
    "                if len(curr)> len(res):\n",
    "                    res = curr\n",
    "                    curr = \"\"\n",
    "                lp += 1\n",
    "                rp = lp\n",
    "        lp += 1\n",
    "    if len(curr)> len(res):\n",
    "                    res = curr\n",
    "                    curr = \"\"\n",
    "    return res\n"
   ]
  },
  {
   "cell_type": "code",
   "execution_count": 5,
   "metadata": {},
   "outputs": [],
   "source": [
    "test_cases = [\n",
    "    \"abcabcbb\",         # 3 (\"abc\")\n",
    "    \"bbbbb\",            # 1 (\"b\")\n",
    "    \"pwwkew\",           # 3 (\"wke\")\n",
    "    \"\",                 # 0 (empty string)\n",
    "    \"a\",                # 1 (single character)\n",
    "    \"aab\",              # 2 (\"ab\")\n",
    "    \"dvdf\",             # 3 (\"vdf\")\n",
    "    \"abba\",             # 2 (\"ab\" or \"ba\")\n",
    "    \"tmmzuxt\",          # 5 (\"mzuxt\")\n",
    "    \" \",                # 1 (single space)\n",
    "    \"au\",               # 2 (\"au\")\n",
    "    \"abcdefghijklmnop\", # 16 (all unique)\n",
    "    \"aaaabc\",           # 3 (\"abc\")\n",
    "]"
   ]
  },
  {
   "cell_type": "code",
   "execution_count": 31,
   "metadata": {},
   "outputs": [
    {
     "name": "stdout",
     "output_type": "stream",
     "text": [
      "abcabcbb abc\n",
      "bbbbb b\n",
      "pwwkew wke\n",
      " \n",
      "a \n",
      "aab ab\n",
      "dvdf vdf\n",
      "abba ab\n",
      "tmmzuxt mzuxt\n",
      "  \n",
      "au au\n",
      "abcdefghijklmnop abcdefghijklmnop\n",
      "aaaabc abc\n"
     ]
    }
   ],
   "source": [
    "for t in test_cases:\n",
    "    res = lss(t)\n",
    "    print(t, res)"
   ]
  }
 ],
 "metadata": {
  "kernelspec": {
   "display_name": "Python 3",
   "language": "python",
   "name": "python3"
  },
  "language_info": {
   "codemirror_mode": {
    "name": "ipython",
    "version": 3
   },
   "file_extension": ".py",
   "mimetype": "text/x-python",
   "name": "python",
   "nbconvert_exporter": "python",
   "pygments_lexer": "ipython3",
   "version": "3.11.6"
  }
 },
 "nbformat": 4,
 "nbformat_minor": 2
}
