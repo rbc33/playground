{
 "cells": [
  {
   "cell_type": "markdown",
   "metadata": {},
   "source": [
    "# Squares of a Sorted Array\n",
    "\n",
    "Given an integer array nums sorted in non-decreasing order, return an array of the squares \n",
    "of each number sorted in non-decreasing order.\n",
    "\n",
    "\n",
    "#### Input: nums = [-4,-1,0,3,10]\n",
    "#### Output: [0,1,9,16,100]\n",
    "#### Return squares of each number in sorted order"
   ]
  },
  {
   "cell_type": "code",
   "execution_count": null,
   "metadata": {},
   "outputs": [],
   "source": [
    "from collections import deque\n",
    "def sqr(nums):\n",
    "    res = []\n",
    "    i = 0\n",
    "    while i < len(nums):\n",
    "        res.append(nums[i]**2)\n",
    "        i+=1\n",
    "    return sorted(res)\n"
   ]
  },
  {
   "cell_type": "code",
   "execution_count": null,
   "metadata": {},
   "outputs": [],
   "source": [
    "def sqr(nums):\n",
    "    n = len(nums) \n",
    "    result = [0]*n  # Create result array with same size\n",
    "    lp = 0          # Left pointer at start\n",
    "    rp = n-1        # Right pointer at end\n",
    "    pos = n-1       # Position to fill in result (start from end)\n",
    "\n",
    "    while lp <= rp:\n",
    "        l_sq = nums[lp]**2      # Calculate squares at both ends\n",
    "        r_sq = nums[rp]**2\n",
    "        if l_sq > r_sq:         # Compare squares and place larger one at current position\n",
    "            result[pos] = l_sq\n",
    "            lp += 1\n",
    "        else:\n",
    "            result[pos] = r_sq\n",
    "            rp -= 1\n",
    "        pos -= 1\n",
    "    return result"
   ]
  },
  {
   "cell_type": "code",
   "execution_count": 9,
   "metadata": {},
   "outputs": [
    {
     "name": "stdout",
     "output_type": "stream",
     "text": [
      "[16, 1, 0, 9, 100]\n",
      "[49, 9, 4, 9, 121]\n",
      "[0, 0, 0]\n",
      "[1]\n",
      "[4, 1, 0, 1, 4]\n"
     ]
    }
   ],
   "source": [
    "test_cases = [\n",
    "    [-4,-1,0,3,10],      # Output: [0,1,9,16,100]\n",
    "    [-7,-3,2,3,11],      # Output: [4,9,9,49,121]\n",
    "    [0,0,0],             # Output: [0,0,0]\n",
    "    [-1],                # Output: [1]\n",
    "    [-2,-1,0,1,2]        # Output: [0,1,1,4,4]\n",
    "]\n",
    "for t in test_cases:\n",
    "    print(sqr(t))"
   ]
  },
  {
   "cell_type": "code",
   "execution_count": null,
   "metadata": {},
   "outputs": [],
   "source": [
    "squares_cases = [\n",
    "    [-4,-1,0,3,10],                         # Output: [0,1,9,16,100]\n",
    "    [i for i in range(-5000,5000)],         # Output: sorted squares\n",
    "    [-100]*5000 + [100]*5000,               # Output: [10000]*10000\n",
    "    [0]*10000,                              # Output: [0]*10000\n",
    "    [-10000,10000]                          # Output: [100000000,100000000]\n",
    "]"
   ]
  }
 ],
 "metadata": {
  "kernelspec": {
   "display_name": "Python 3",
   "language": "python",
   "name": "python3"
  },
  "language_info": {
   "codemirror_mode": {
    "name": "ipython",
    "version": 3
   },
   "file_extension": ".py",
   "mimetype": "text/x-python",
   "name": "python",
   "nbconvert_exporter": "python",
   "pygments_lexer": "ipython3",
   "version": "3.11.6"
  }
 },
 "nbformat": 4,
 "nbformat_minor": 2
}
