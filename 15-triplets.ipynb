{
 "cells": [
  {
   "cell_type": "markdown",
   "metadata": {},
   "source": [
    "[15\\. 3Sum](https://leetcode.com/problems/3sum/)\n",
    "\n",
    "Medium\n",
    "\n",
    "Topics\n",
    "\n",
    "Companies\n",
    "\n",
    "Hint\n",
    "\n",
    "Given an integer array nums, return all the triplets `[nums[i], nums[j], nums[k]]` such that `i != j`, `i != k`, and `j != k`, and `nums[i] + nums[j] + nums[k] == 0`.\n",
    "\n",
    "Notice that the solution set must not contain duplicate triplets.\n",
    "\n",
    "**Example 1:**\n",
    "\n",
    "**Input:** nums = \\[-1,0,1,2,-1,-4\\]\n",
    "\n",
    "**Output:** \\[\\[-1,-1,2\\],\\[-1,0,1\\]\\]\n",
    "\n",
    "**Explanation:** \n",
    "\n",
    "nums\\[0\\] + nums\\[1\\] + nums\\[2\\] = (-1) + 0 + 1 = 0.\n",
    "\n",
    "nums\\[1\\] + nums\\[2\\] + nums\\[4\\] = 0 + 1 + (-1) = 0.\n",
    "\n",
    "nums\\[0\\] + nums\\[3\\] + nums\\[4\\] = (-1) + 2 + (-1) = 0.\n",
    "\n",
    "The distinct triplets are \\[-1,0,1\\] and \\[-1,-1,2\\].\n",
    "\n",
    "Notice that the order of the output and the order of the triplets does not matter.\n",
    "\n",
    "**Example 2:**\n",
    "\n",
    "**Input:** nums = \\[0,1,1\\]\n",
    "**Output:** \\[\\]\n",
    "**Explanation:** The only possible triplet does not sum up to 0.\n",
    "\n",
    "**Example 3:**\n",
    "\n",
    "**Input:** nums = \\[0,0,0\\]\n",
    "**Output:** \\[\\[0,0,0\\]\\]\n",
    "**Explanation:** The only possible triplet sums up to 0.\n",
    "\n",
    "**Constraints:**\n",
    "\n",
    "- `3 <= nums.length <= 3000`\n",
    "- `-10<sup>5</sup> <= nums[i] <= 10<sup>5</sup>`"
   ]
  },
  {
   "cell_type": "code",
   "execution_count": null,
   "metadata": {},
   "outputs": [],
   "source": [
    "\n",
    "def threeSum(self, nums: List[int]) -> List[List[int]]:\n",
    "    n = sorted(nums)\n",
    "    res = []\n",
    "    if n ==[0,0,0]:\n",
    "        return [[0,0,0]]\n",
    "    i=0\n",
    "\n",
    "    while i<len(n)-2:\n",
    "        j = i+1\n",
    "        while j<len(n)-1:\n",
    "            k = j + 1\n",
    "            while k < len(n):\n",
    "                if i != j and j != k and i != k and n[i]+ n[j]+n[k] ==0:\n",
    "                    if [n[i], n[j], n[k]] not in res:\n",
    "                        res.append([n[i],n[j],n[k]])\n",
    "\n",
    "                k+=1\n",
    "            j+=1\n",
    "        i += 1\n",
    "    return res"
   ]
  },
  {
   "cell_type": "code",
   "execution_count": null,
   "metadata": {},
   "outputs": [],
   "source": [
    "def threeSum(self, nums: List[int]) -> List[List[int]]:\n",
    "    nums.sort()  # Ordenar el array\n",
    "    res = []\n",
    "    \n",
    "    for i in range(len(nums)-2):\n",
    "        # Evitar duplicados en i\n",
    "        if i > 0 and nums[i] == nums[i-1]:\n",
    "            continue\n",
    "            \n",
    "        # Usar dos punteros: left y right\n",
    "        left = i + 1\n",
    "        right = len(nums) - 1\n",
    "        \n",
    "        while left < right:\n",
    "            total = nums[i] + nums[left] + nums[right]\n",
    "            \n",
    "            if total == 0:\n",
    "                res.append([nums[i], nums[left], nums[right]])\n",
    "                # Evitar duplicados en left\n",
    "                while left < right and nums[left] == nums[left+1]:\n",
    "                    left += 1\n",
    "                # Evitar duplicados en right\n",
    "                while left < right and nums[right] == nums[right-1]:\n",
    "                    right -= 1\n",
    "                left += 1\n",
    "                right -= 1\n",
    "            elif total < 0:\n",
    "                left += 1\n",
    "            else:\n",
    "                right -= 1\n",
    "                \n",
    "    return res"
   ]
  },
  {
   "cell_type": "code",
   "execution_count": 18,
   "metadata": {},
   "outputs": [
    {
     "name": "stdout",
     "output_type": "stream",
     "text": [
      "[[-1, 0, 1], [-1, -1, 2]]\n"
     ]
    }
   ],
   "source": [
    "nums = [0,1,1]\n",
    "nums = [-1,0,1,2,-1,-4]\n",
    "res = triplets(nums)\n",
    "print(res)"
   ]
  }
 ],
 "metadata": {
  "kernelspec": {
   "display_name": "Python 3",
   "language": "python",
   "name": "python3"
  },
  "language_info": {
   "codemirror_mode": {
    "name": "ipython",
    "version": 3
   },
   "file_extension": ".py",
   "mimetype": "text/x-python",
   "name": "python",
   "nbconvert_exporter": "python",
   "pygments_lexer": "ipython3",
   "version": "3.11.6"
  }
 },
 "nbformat": 4,
 "nbformat_minor": 2
}
