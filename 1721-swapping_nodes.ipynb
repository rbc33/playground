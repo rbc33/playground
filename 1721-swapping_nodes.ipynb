{
 "cells": [
  {
   "cell_type": "markdown",
   "metadata": {},
   "source": [
    "[1721\\. Swapping Nodes in a Linked List](https://leetcode.com/problems/swapping-nodes-in-a-linked-list/)\n",
    "\n",
    "Medium\n",
    "\n",
    "Topics\n",
    "\n",
    "Companies\n",
    "\n",
    "Hint\n",
    "\n",
    "You are given the `head` of a linked list, and an integer `k`.\n",
    "\n",
    "Return _the head of the linked list after **swapping** the values of the_ `k<sup>th</sup>` _node from the beginning and the_ `k<sup>th</sup>` _node from the end (the list is **1-indexed**)._\n",
    "\n",
    "**Example 1:**\n",
    "\n",
    "![](https://assets.leetcode.com/uploads/2020/09/21/linked1.jpg)\n",
    "\n",
    "**Input:** head = \\[1,2,3,4,5\\], k = 2\n",
    "**Output:** \\[1,4,3,2,5\\]\n",
    "\n",
    "**Example 2:**\n",
    "\n",
    "**Input:** head = \\[7,9,6,6,7,8,3,0,9,5\\], k = 5\n",
    "**Output:** \\[7,9,6,6,8,7,3,0,9,5\\]\n",
    "\n",
    "**Constraints:**\n",
    "\n",
    "- The number of nodes in the list is `n`.\n",
    "- `1 <= k <= n <= 10<sup>5</sup>`\n",
    "- `0 <= Node.val <= 100`"
   ]
  },
  {
   "cell_type": "code",
   "execution_count": 13,
   "metadata": {},
   "outputs": [],
   "source": [
    "# Definition for singly-linked list.\n",
    "class ListNode:\n",
    "    def __init__(self, val=0, next=None):\n",
    "        self.val = val\n",
    "        self.next = next\n",
    "# class Solution:\n",
    "def swapNodes(head, k: int):\n",
    "    if not head.next:\n",
    "        return head\n",
    "        \n",
    "    # Find length and kth node from start\n",
    "    length = 0\n",
    "    current = head\n",
    "    kth_start = None\n",
    "    \n",
    "    while current:\n",
    "        length += 1\n",
    "        if length == k:\n",
    "            kth_start = current\n",
    "        current = current.next\n",
    "    \n",
    "    # Find kth node from end\n",
    "    current = head\n",
    "    for i in range(length - k):\n",
    "        current = current.next\n",
    "    kth_end = current\n",
    "    \n",
    "    # Swap values (not nodes)\n",
    "    kth_start.val, kth_end.val = kth_end.val, kth_start.val\n",
    "    \n",
    "    return head"
   ]
  },
  {
   "cell_type": "code",
   "execution_count": 14,
   "metadata": {},
   "outputs": [
    {
     "name": "stdout",
     "output_type": "stream",
     "text": [
      "1\n",
      "2\n",
      "------------------------------\n",
      "2\n",
      "1\n"
     ]
    }
   ],
   "source": [
    "arr = [1,2,3,4,5]\n",
    "head = ListNode(1)\n",
    "head.next = ListNode(2) \n",
    "# head.next.next = ListNode(3) \n",
    "# head.next.next.next = ListNode(4) \n",
    "# head.next.next.next.next = ListNode(5)\n",
    "current = head\n",
    "while current:\n",
    "    print(current.val)\n",
    "    current = current.next\n",
    "print(\"------------------------------\")\n",
    "head = swapNodes(head, 1)\n",
    "current = head\n",
    "while current:\n",
    "    print(current.val)\n",
    "    current = current.next\n"
   ]
  }
 ],
 "metadata": {
  "kernelspec": {
   "display_name": "Python 3",
   "language": "python",
   "name": "python3"
  },
  "language_info": {
   "codemirror_mode": {
    "name": "ipython",
    "version": 3
   },
   "file_extension": ".py",
   "mimetype": "text/x-python",
   "name": "python",
   "nbconvert_exporter": "python",
   "pygments_lexer": "ipython3",
   "version": "3.11.6"
  }
 },
 "nbformat": 4,
 "nbformat_minor": 2
}
