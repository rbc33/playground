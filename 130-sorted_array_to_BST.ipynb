{
 "cells": [
  {
   "cell_type": "markdown",
   "metadata": {},
   "source": [
    "[108\\. Convert Sorted Array to Binary Search Tree](https://leetcode.com/problems/convert-sorted-array-to-binary-search-tree/)\n",
    "\n",
    "Attempted\n",
    "\n",
    "Easy\n",
    "\n",
    "Topics\n",
    "\n",
    "Companies\n",
    "\n",
    "Given an integer array `nums` where the elements are sorted in **ascending order**, convert _it to a_ **_height-balanced_** _binary search tree_.\n",
    "\n",
    "**Example 1:**\n",
    "\n",
    "![](https://assets.leetcode.com/uploads/2021/02/18/btree1.jpg)\n",
    "\n",
    "**Input:** nums = \\[-10,-3,0,5,9\\]\n",
    "**Output:** \\[0,-3,9,-10,null,5\\]\n",
    "**Explanation:** \\[0,-10,5,null,-3,null,9\\] is also accepted:\n",
    "![](https://assets.leetcode.com/uploads/2021/02/18/btree2.jpg)\n",
    "\n",
    "**Example 2:**\n",
    "\n",
    "![](https://assets.leetcode.com/uploads/2021/02/18/btree.jpg)\n",
    "\n",
    "**Input:** nums = \\[1,3\\]\n",
    "**Output:** \\[3,1\\]\n",
    "**Explanation:** \\[1,null,3\\] and \\[3,1\\] are both height-balanced BSTs.\n",
    "\n",
    "**Constraints:**\n",
    "\n",
    "- `1 <= nums.length <= 10<sup>4</sup>`\n",
    "- `-10<sup>4</sup> <= nums[i] <= 10<sup>4</sup>`\n",
    "- `nums` is sorted in a **strictly increasing** order."
   ]
  },
  {
   "cell_type": "code",
   "execution_count": null,
   "metadata": {
    "vscode": {
     "languageId": "plaintext"
    }
   },
   "outputs": [],
   "source": [
    "# Definition for a binary tree node.\n",
    "# class TreeNode:\n",
    "#     def __init__(self, val=0, left=None, right=None):\n",
    "#         self.val = val\n",
    "#         self.left = left\n",
    "#         self.right = right\n",
    "class Solution:\n",
    "    def sortedArrayToBST(self, nums: List[int]) -> Optional[TreeNode]:\n",
    "        if not nums:\n",
    "            return \n",
    "        mid = len(nums) //2\n",
    "        root = TreeNode(nums[mid])\n",
    "        \n",
    "        root.left = self.sortedArrayToBST(nums[:mid])\n",
    "        root.right = self.sortedArrayToBST(nums[mid+1:])\n",
    "\n",
    "        return root"
   ]
  }
 ],
 "metadata": {
  "language_info": {
   "name": "python"
  }
 },
 "nbformat": 4,
 "nbformat_minor": 2
}
