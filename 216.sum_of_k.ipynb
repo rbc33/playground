{
 "cells": [
  {
   "cell_type": "markdown",
   "metadata": {},
   "source": [
    "[216\\. Combination Sum III](https://leetcode.com/problems/combination-sum-iii/)\n",
    "\n",
    "Medium\n",
    "\n",
    "Topics\n",
    "\n",
    "Companies\n",
    "\n",
    "Find all valid combinations of `k` numbers that sum up to `n` such that the following conditions are true:\n",
    "\n",
    "- Only numbers `1` through `9` are used.\n",
    "- Each number is used **at most once**.\n",
    "\n",
    "Return _a list of all possible valid combinations_. The list must not contain the same combination twice, and the combinations may be returned in any order.\n",
    "\n",
    "**Example 1:**\n",
    "\n",
    "**Input:** k = 3, n = 7\n",
    "**Output:** \\[\\[1,2,4\\]\\]\n",
    "**Explanation:**\n",
    "1 + 2 + 4 = 7\n",
    "There are no other valid combinations.\n",
    "\n",
    "**Example 2:**\n",
    "\n",
    "**Input:** k = 3, n = 9\n",
    "**Output:** \\[\\[1,2,6\\],\\[1,3,5\\],\\[2,3,4\\]\\]\n",
    "**Explanation:**\n",
    "1 + 2 + 6 = 9\n",
    "1 + 3 + 5 = 9\n",
    "2 + 3 + 4 = 9\n",
    "There are no other valid combinations.\n",
    "\n",
    "**Example 3:**\n",
    "\n",
    "**Input:** k = 4, n = 1\n",
    "**Output:** \\[\\]\n",
    "**Explanation:** There are no valid combinations.\n",
    "Using 4 different numbers in the range \\[1,9\\], the smallest sum we can get is 1+2+3+4 = 10 and since 10 > 1, there are no valid combination.\n",
    "\n",
    "**Constraints:**\n",
    "\n",
    "- `2 <= k <= 9`\n",
    "- `1 <= n <= 60`"
   ]
  },
  {
   "cell_type": "code",
   "execution_count": null,
   "metadata": {},
   "outputs": [],
   "source": [
    "from typing import List\n",
    "def combinationSum3(k: int, n: int) -> List[List[int]]:\n",
    "    res = []\n",
    "    def recurse(curr, curr_s, i):\n",
    "        if len(curr) == k and curr_s == n:\n",
    "            res.append(curr[:])\n",
    "            return\n",
    "        if curr_s>n or i >9:\n",
    "            return\n",
    "        \n",
    "        curr.append(i)\n",
    "        recurse(curr, curr_s+i, i+1)\n",
    "        curr.pop()\n",
    "        recurse(curr, curr_s, i+1)\n",
    "    recurse([],0,1)\n",
    "    return res\n",
    "        \n"
   ]
  }
 ],
 "metadata": {
  "kernelspec": {
   "display_name": "Python 3",
   "language": "python",
   "name": "python3"
  },
  "language_info": {
   "name": "python",
   "version": "3.11.6"
  }
 },
 "nbformat": 4,
 "nbformat_minor": 2
}
