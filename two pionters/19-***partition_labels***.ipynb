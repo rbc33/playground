{
 "cells": [
  {
   "cell_type": "markdown",
   "metadata": {},
   "source": [
    "## 19. Partition Labels\n",
    "\n",
    "- **Problem**: Partition string so each letter appears in at most one part\n",
    "- **Example**:\n",
    "  - Input: \"ababcbacadefegdehijhklij\"\n",
    "  - Output: [9,7,8]\n",
    "- **Key Idea**: Track last occurrence of each char\n",
    "    \n",
    "- **The goal is to split a string into parts where:\n",
    "\n",
    "1. Each letter appears in exactly one part\n",
    "2. The parts should be as many as possible\n",
    "3. Each part should be as small as possible while satisfying rules 1 and 2\n",
    "For example, with \"ababcbacadefegdehijhklij\":\n",
    "\n",
    "    |ababcbaca|defegde|hijhklij|\n",
    "    |    9    |   7   |   8    |\n",
    "\n",
    "Breaking it down:\n",
    "\n",
    "1. First part \"ababcbaca\" (length 9):\n",
    "   \n",
    "   - Contains a,b,c\n",
    "   - Must include all occurrences of these letters\n",
    "   - Can't be split because letters overlap\n",
    "2. Second part \"defegde\" (length 7):\n",
    "   \n",
    "   - Contains d,e,f,g\n",
    "   - Must include all occurrences of these letters\n",
    "3. Third part \"hijhklij\" (length 8):\n",
    "   \n",
    "   - Contains h,i,j,k,l\n",
    "   - Must include all occurrences of these letters\n",
    "The key is that once you start including a letter in a partition, you must include all occurrences of that letter in the same partition."
   ]
  },
  {
   "cell_type": "code",
   "execution_count": 13,
   "metadata": {},
   "outputs": [],
   "source": [
    "def part(s):\n",
    "    curr = \"\"\n",
    "    check = 0\n",
    "    ind = []\n",
    "    indx = 0\n",
    "    for i, val in enumerate(s[:-2]):\n",
    "        if val not in curr:\n",
    "            if s[i] not in s[i+1:] or i == 0:\n",
    "                curr += val\n",
    "            for c in curr:\n",
    "                if c in s[i+1:]:\n",
    "                    check+= 1\n",
    "            if check == 0:\n",
    "                ind.append(i)\n",
    "                curr = val\n",
    "    return ind"
   ]
  },
  {
   "cell_type": "code",
   "execution_count": 1,
   "metadata": {},
   "outputs": [],
   "source": [
    "test_cases = [\n",
    "    \"ababcbacadefegdehijhklij\",  # [9,7,8]\n",
    "    \"eccbbbbdec\",                # [10]\n",
    "    \"abcdef\",                    # [1,1,1,1,1,1]\n",
    "    \"aaa\",                       # [3]\n",
    "    \"caedbdedda\",               # [1,9]\n",
    "    \"eaaaabaaec\",               # [9,1]\n",
    "    \"\",                         # []\n",
    "    \"z\",                        # [1]\n",
    "    \"vhaagbqkaqtctq\",          # [1,1,8,1,1,1,1]\n",
    "    \"aaaaaaaaaa\",              # [10]\n",
    "    \"abcdefghi\",               # [1,1,1,1,1,1,1,1,1]\n",
    "    \"qiejxqfnqceocmy\",         # [13,1,1]\n",
    "]"
   ]
  },
  {
   "cell_type": "code",
   "execution_count": 14,
   "metadata": {},
   "outputs": [
    {
     "name": "stdout",
     "output_type": "stream",
     "text": [
      "ababcbacadefegdehijhklij []\n",
      "eccbbbbdec []\n",
      "abcdef [0, 1, 2, 3]\n",
      "aaa []\n",
      "caedbdedda [0, 1]\n",
      "eaaaabaaec []\n",
      " []\n",
      "z []\n",
      "vhaagbqkaqtctq [0, 1, 2]\n",
      "aaaaaaaaaa []\n",
      "abcdefghi [0, 1, 2, 3, 4, 5, 6]\n",
      "qiejxqfnqceocmy []\n"
     ]
    }
   ],
   "source": [
    "for t in test_cases:\n",
    "    res = part(t)\n",
    "    print(t, res)"
   ]
  }
 ],
 "metadata": {
  "kernelspec": {
   "display_name": "Python 3",
   "language": "python",
   "name": "python3"
  },
  "language_info": {
   "codemirror_mode": {
    "name": "ipython",
    "version": 3
   },
   "file_extension": ".py",
   "mimetype": "text/x-python",
   "name": "python",
   "nbconvert_exporter": "python",
   "pygments_lexer": "ipython3",
   "version": "3.11.6"
  }
 },
 "nbformat": 4,
 "nbformat_minor": 2
}
