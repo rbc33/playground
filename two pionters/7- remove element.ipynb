{
 "cells": [
  {
   "cell_type": "markdown",
   "metadata": {},
   "source": [
    "\n",
    "# Remove Element\n",
    "\n",
    "Given an integer array nums and an integer val, remove all occurrences of val in nums in-place.\n",
    "Return the number of elements in nums which are not equal to val.\n",
    "\n",
    "#### Input: nums = [3,2,2,3], val = 3\n",
    "#### Output: 2, nums = [2,2,_,_]\n",
    "#### Remove all instances of val in-place"
   ]
  },
  {
   "cell_type": "code",
   "execution_count": null,
   "metadata": {},
   "outputs": [],
   "source": [
    "def rem_ele(nums):\n",
    "    "
   ]
  },
  {
   "cell_type": "code",
   "execution_count": null,
   "metadata": {},
   "outputs": [],
   "source": [
    "test_cases = [\n",
    "    ([3,2,2,3], 3),                   # Output: 2, nums = [2,2,_,_]\n",
    "    ([0,1,2,2,3,0,4,2], 2),          # Output: 5, nums = [0,1,3,0,4,_,_,_]\n",
    "    ([], 1),                          # Output: 0, nums = []\n",
    "    ([1,1,1], 1),                     # Output: 0, nums = [_,_,_]\n",
    "    ([1,2,3,4], 5)                    # Output: 4, nums = [1,2,3,4]\n",
    "]"
   ]
  },
  {
   "cell_type": "code",
   "execution_count": null,
   "metadata": {},
   "outputs": [],
   "source": [
    "remove_element_cases = [\n",
    "    ([3,2,2,3], 3),                         # Output: 2, nums = [2,2,_,_]\n",
    "    ([1]*10000, 1),                         # Output: 0, all removed\n",
    "    ([i for i in range(10000)], 9999),      # Output: 9999, remove last\n",
    "    ([5]*9999 + [1], 5),                    # Output: 1, remove most\n",
    "    ([1,2]*5000, 2)                         # Output: 5000, remove half\n",
    "]"
   ]
  }
 ],
 "metadata": {
  "kernelspec": {
   "display_name": "Python 3",
   "language": "python",
   "name": "python3"
  },
  "language_info": {
   "name": "python",
   "version": "3.11.6"
  }
 },
 "nbformat": 4,
 "nbformat_minor": 2
}
