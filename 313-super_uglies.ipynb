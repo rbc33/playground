{
 "cells": [
  {
   "cell_type": "markdown",
   "metadata": {},
   "source": [
    "[313\\. Super Ugly Number](https://leetcode.com/problems/super-ugly-number/)\n",
    "\n",
    "Medium\n",
    "\n",
    "Topics\n",
    "\n",
    "Companies\n",
    "\n",
    "A **super ugly number** is a positive integer whose prime factors are in the array `primes`.\n",
    "\n",
    "Given an integer `n` and an array of integers `primes`, return _the_ `n<sup>th</sup>` _**super ugly number**_.\n",
    "\n",
    "The `n<sup>th</sup>` **super ugly number** is **guaranteed** to fit in a **32-bit** signed integer.\n",
    "\n",
    "**Example 1:**\n",
    "\n",
    "**Input:** n = 12, primes = \\[2,7,13,19\\]\n",
    "**Output:** 32\n",
    "**Explanation:** \\[1,2,4,7,8,13,14,16,19,26,28,32\\] is the sequence of the first 12 super ugly numbers given primes = \\[2,7,13,19\\].\n",
    "\n",
    "**Example 2:**\n",
    "\n",
    "**Input:** n = 1, primes = \\[2,3,5\\]\n",
    "**Output:** 1\n",
    "**Explanation:** 1 has no prime factors, therefore all of its prime factors are in the array primes = \\[2,3,5\\].\n",
    "\n",
    "**Constraints:**\n",
    "\n",
    "- `1 <= n <= 10<sup>5</sup>`\n",
    "- `1 <= primes.length <= 100`\n",
    "- `2 <= primes[i] <= 1000`\n",
    "- `primes[i]` is **guaranteed** to be a prime number.\n",
    "- All the values of `primes` are **unique** and sorted in **ascending order**."
   ]
  },
  {
   "cell_type": "code",
   "execution_count": null,
   "metadata": {
    "vscode": {
     "languageId": "plaintext"
    }
   },
   "outputs": [],
   "source": [
    "class Solution:\n",
    "    def nthSuperUglyNumber(self, n: int, primes: List[int]) -> int:\n",
    "        def fact(num):\n",
    "            if num == 1:\n",
    "                return [1]\n",
    "            fact = [1]\n",
    "            i = 1\n",
    "            while n**2 < num:\n",
    "                for p in primes:\n",
    "                    if i % p == 0:\n",
    "                        fact.append(i)\n",
    "                        num //= n\n",
    "                    else:\n",
    "                        i += 1\n",
    "            return fact\n",
    "        ug = [1]\n",
    "        i = 1\n",
    "        while len(ug)<n:\n",
    "            for p in primes:\n",
    "                    if i % p != 0:\n",
    "                        break\n",
    "                    else:\n",
    "                        ug.append()\n",
    "            if fact(i) in primes:\n",
    "                ug.append(i)\n",
    "            i +=1\n",
    "        return up[-1]\n",
    "\n",
    "        "
   ]
  },
  {
   "cell_type": "code",
   "execution_count": null,
   "metadata": {
    "vscode": {
     "languageId": "plaintext"
    }
   },
   "outputs": [],
   "source": [
    "class Solution:\n",
    "    def nthSuperUglyNumber(self, n: int, primes: List[int]) -> int:\n",
    "        uglies = [1]\n",
    "        np = len(primes)\n",
    "        indices = [0] * np\n",
    "        next = primes.copy()\n",
    "\n",
    "        for i in range(1, n):\n",
    "            uglies.append(ugly := min(next))\n",
    "\n",
    "            for k in range(np):\n",
    "                if ugly == next[k]:\n",
    "                    indices[k] += 1\n",
    "                    next[k] = primes[k] * uglies[indices[k]]\n",
    "\n",
    "        return uglies[n - 1]"
   ]
  }
 ],
 "metadata": {
  "language_info": {
   "name": "python"
  }
 },
 "nbformat": 4,
 "nbformat_minor": 2
}
