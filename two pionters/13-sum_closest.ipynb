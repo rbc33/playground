{
 "cells": [
  {
   "cell_type": "markdown",
   "metadata": {},
   "source": [
    "## 13. Three Sum Closest\n",
    "\n",
    "- **Problem**: Find sum of three integers closest to target\n",
    "- **Example**:\n",
    "  - Input: nums=[-1,2,1,-4], target=1\n",
    "  - Output: 2 (-1+2+1)\n",
    "- **Key Idea**: Sort and minimize difference with target\n",
    "- **Test Cases**:\n",
    "\n"
   ]
  },
  {
   "cell_type": "code",
   "execution_count": null,
   "metadata": {},
   "outputs": [],
   "source": [
    "def sum_close(input):\n",
    "    if n <2: return \n",
    "    arr = input[0]\n",
    "    arr.sort()\n",
    "    target = input[1]\n",
    "    n = len(arr)\n",
    "    closest = arr[0]+ arr[1]+ arr[2]\n",
    "    res = ()\n",
    "    for i in range(n-2):\n",
    "        l = i+1\n",
    "        r = n-1\n",
    "        while l < r:\n",
    "            suma = arr[i]+ arr[l]+ arr[r]\n",
    "            if suma == target:\n",
    "                return  (suma, (arr[i], arr[l], arr[r]))\n",
    "            \n",
    "            if abs(target-closest)> abs(target-suma):\n",
    "                closest = suma\n",
    "                res = (arr[i], arr[l], arr[r])\n",
    "            elif suma < target:\n",
    "                l += 1\n",
    "            else:\n",
    "                r -= 1\n",
    "    return (closest, res)\n"
   ]
  },
  {
   "cell_type": "code",
   "execution_count": 24,
   "metadata": {},
   "outputs": [],
   "source": [
    "test_cases = [\n",
    "    ([-1,2,1,-4], 1),              # 2 (-1+2+1)\n",
    "    ([0,0,0], 1),                  # 0 (0+0+0)\n",
    "    ([1,1,1,1], 0),                # 3 (1+1+1)\n",
    "    ([-100,-98,2,89], -101),       # -196 (-100+-98+2)\n",
    "    ([4,0,5,-5,3,3,0,0], -2),      # -2 (-5+0+3)\n",
    "    ([1,2,4,8,16,32,64,128], 82),  # 82 (2+16+64)\n",
    "    ([1], 100),                    # None (array too small)\n",
    "    ([], 5),                       # None (empty array)\n",
    "    ([-5,-5,-4,0,0,3,3,4,5], 0),   # 0 (-4+0+4)\n",
    "    ([1000000000,1000000000,1000000000], 3000000000)  # Edge case with large numbers\n",
    "]"
   ]
  },
  {
   "cell_type": "code",
   "execution_count": 28,
   "metadata": {},
   "outputs": [
    {
     "name": "stdout",
     "output_type": "stream",
     "text": [
      "(2, (-1, 1, 2))\n",
      "(0, ())\n",
      "(3, ())\n",
      "(-109, (-100, -98, 89))\n",
      "(-2, (-5, 0, 3))\n",
      "(82, (2, 16, 64))\n"
     ]
    },
    {
     "ename": "IndexError",
     "evalue": "list index out of range",
     "output_type": "error",
     "traceback": [
      "\u001b[31m---------------------------------------------------------------------------\u001b[39m",
      "\u001b[31mIndexError\u001b[39m                                Traceback (most recent call last)",
      "\u001b[36mCell\u001b[39m\u001b[36m \u001b[39m\u001b[32mIn[28]\u001b[39m\u001b[32m, line 2\u001b[39m\n\u001b[32m      1\u001b[39m \u001b[38;5;28;01mfor\u001b[39;00m t \u001b[38;5;129;01min\u001b[39;00m test_cases:\n\u001b[32m----> \u001b[39m\u001b[32m2\u001b[39m     res = \u001b[43msum_close\u001b[49m\u001b[43m(\u001b[49m\u001b[43mt\u001b[49m\u001b[43m)\u001b[49m\n\u001b[32m      3\u001b[39m     \u001b[38;5;28mprint\u001b[39m(res)\n",
      "\u001b[36mCell\u001b[39m\u001b[36m \u001b[39m\u001b[32mIn[26]\u001b[39m\u001b[32m, line 7\u001b[39m, in \u001b[36msum_close\u001b[39m\u001b[34m(input)\u001b[39m\n\u001b[32m      5\u001b[39m target = \u001b[38;5;28minput\u001b[39m[\u001b[32m1\u001b[39m]\n\u001b[32m      6\u001b[39m n = \u001b[38;5;28mlen\u001b[39m(arr)\n\u001b[32m----> \u001b[39m\u001b[32m7\u001b[39m closest = arr[\u001b[32m0\u001b[39m]+ \u001b[43marr\u001b[49m\u001b[43m[\u001b[49m\u001b[32;43m1\u001b[39;49m\u001b[43m]\u001b[49m+ arr[\u001b[32m2\u001b[39m]\n\u001b[32m      8\u001b[39m res = ()\n\u001b[32m      9\u001b[39m \u001b[38;5;28;01mfor\u001b[39;00m i \u001b[38;5;129;01min\u001b[39;00m \u001b[38;5;28mrange\u001b[39m(n-\u001b[32m2\u001b[39m):\n",
      "\u001b[31mIndexError\u001b[39m: list index out of range"
     ]
    }
   ],
   "source": [
    "for t in test_cases:\n",
    "    res = sum_close(t)\n",
    "    print(res)"
   ]
  }
 ],
 "metadata": {
  "kernelspec": {
   "display_name": "Python 3",
   "language": "python",
   "name": "python3"
  },
  "language_info": {
   "codemirror_mode": {
    "name": "ipython",
    "version": 3
   },
   "file_extension": ".py",
   "mimetype": "text/x-python",
   "name": "python",
   "nbconvert_exporter": "python",
   "pygments_lexer": "ipython3",
   "version": "3.11.6"
  }
 },
 "nbformat": 4,
 "nbformat_minor": 2
}
