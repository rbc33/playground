{
 "cells": [
  {
   "cell_type": "markdown",
   "metadata": {},
   "source": [
    "13. Roman to Integer\n",
    "Easy\n",
    "Topics\n",
    "Companies\n",
    "Hint\n",
    "Roman numerals are represented by seven different symbols: I, V, X, L, C, D and M.\n",
    "\n",
    "Symbol       Value\n",
    "I             1\n",
    "V             5\n",
    "X             10\n",
    "L             50\n",
    "C             100\n",
    "D             500\n",
    "M             1000\n",
    "For example, 2 is written as II in Roman numeral, just two ones added together. 12 is written as XII, which is simply X + II. The number 27 is written as XXVII, which is XX + V + II.\n",
    "\n",
    "Roman numerals are usually written largest to smallest from left to right. However, the numeral for four is not IIII. Instead, the number four is written as IV. Because the one is before the five we subtract it making four. The same principle applies to the number nine, which is written as IX. There are six instances where subtraction is used:\n",
    "\n",
    "I can be placed before V (5) and X (10) to make 4 and 9. \n",
    "X can be placed before L (50) and C (100) to make 40 and 90. \n",
    "C can be placed before D (500) and M (1000) to make 400 and 900.\n",
    "Given a roman numeral, convert it to an integer.\n",
    "\n",
    " \n",
    "\n",
    "Example 1:\n",
    "\n",
    "Input: s = \"III\"\n",
    "Output: 3\n",
    "Explanation: III = 3.\n",
    "Example 2:\n",
    "\n",
    "Input: s = \"LVIII\"\n",
    "Output: 58\n",
    "Explanation: L = 50, V= 5, III = 3.\n",
    "Example 3:\n",
    "\n",
    "Input: s = \"MCMXCIV\"\n",
    "Output: 1994\n",
    "Explanation: M = 1000, CM = 900, XC = 90 and IV = 4.\n",
    " \n",
    "\n",
    "Constraints:\n",
    "\n",
    "1 <= s.length <= 15\n",
    "s contains only the characters ('I', 'V', 'X', 'L', 'C', 'D', 'M').\n",
    "It is guaranteed that s is a valid roman numeral in the range [1, 3999]."
   ]
  },
  {
   "cell_type": "code",
   "execution_count": null,
   "metadata": {},
   "outputs": [],
   "source": [
    "def romanToInt(s: str) -> int:\n",
    "    symbols = {\n",
    "        \"I\": 1,\n",
    "        \"V\": 5,\n",
    "        \"X\": 10,\n",
    "        \"L\": 50,\n",
    "        \"C\": 100,\n",
    "        \"D\": 500,\n",
    "        \"M\": 1000\n",
    "        }\n",
    "    res = 0\n",
    "    i = 0\n",
    "    while i < len(s):\n",
    "        # Verificar si hay suficientes caracteres para comprobar pares\n",
    "        if i + 1 < len(s):\n",
    "            if s[i:i+2] == \"CM\":\n",
    "                res += 900\n",
    "                i += 2\n",
    "                continue\n",
    "            elif s[i:i+2] == \"CD\":\n",
    "                res += 400\n",
    "                i += 2\n",
    "                continue\n",
    "            elif s[i:i+2] == \"XC\":\n",
    "                res += 90\n",
    "                i += 2\n",
    "                continue\n",
    "            elif s[i:i+2] == \"XL\":\n",
    "                res += 40\n",
    "                i += 2\n",
    "                continue\n",
    "            elif s[i:i+2] == \"IX\":\n",
    "                res += 9  # Corregido de 900 a 9\n",
    "                i += 2\n",
    "                continue\n",
    "            elif s[i:i+2] == \"IV\":\n",
    "                res += 4  # Corregido de 400 a 4\n",
    "                i += 2\n",
    "                continue\n",
    "        \n",
    "        # Si no hay coincidencias de pares, procesar un solo carácter\n",
    "        res += symbols[s[i]]\n",
    "        i += 1\n",
    "    \n",
    "    return res\n",
    "    "
   ]
  },
  {
   "cell_type": "code",
   "execution_count": 20,
   "metadata": {},
   "outputs": [
    {
     "ename": "IndexError",
     "evalue": "string index out of range",
     "output_type": "error",
     "traceback": [
      "\u001b[31m---------------------------------------------------------------------------\u001b[39m",
      "\u001b[31mIndexError\u001b[39m                                Traceback (most recent call last)",
      "\u001b[36mCell\u001b[39m\u001b[36m \u001b[39m\u001b[32mIn[20]\u001b[39m\u001b[32m, line 2\u001b[39m\n\u001b[32m      1\u001b[39m num_rom = \u001b[33m\"\u001b[39m\u001b[33mMCMXCIV\u001b[39m\u001b[33m\"\u001b[39m\n\u001b[32m----> \u001b[39m\u001b[32m2\u001b[39m num = \u001b[43mromanToInt\u001b[49m\u001b[43m(\u001b[49m\u001b[43mnum_rom\u001b[49m\u001b[43m)\u001b[49m\n\u001b[32m      3\u001b[39m \u001b[38;5;28mprint\u001b[39m(num)\n",
      "\u001b[36mCell\u001b[39m\u001b[36m \u001b[39m\u001b[32mIn[19]\u001b[39m\u001b[32m, line 36\u001b[39m, in \u001b[36mromanToInt\u001b[39m\u001b[34m(s)\u001b[39m\n\u001b[32m     33\u001b[39m             i += \u001b[32m2\u001b[39m\n\u001b[32m     35\u001b[39m     \u001b[38;5;66;03m# Si no hay coincidencias de pares, procesar un solo carácter\u001b[39;00m\n\u001b[32m---> \u001b[39m\u001b[32m36\u001b[39m     res += symbols[\u001b[43ms\u001b[49m\u001b[43m[\u001b[49m\u001b[43mi\u001b[49m\u001b[43m]\u001b[49m]\n\u001b[32m     37\u001b[39m     i += \u001b[32m1\u001b[39m\n\u001b[32m     39\u001b[39m \u001b[38;5;28;01mreturn\u001b[39;00m res\n",
      "\u001b[31mIndexError\u001b[39m: string index out of range"
     ]
    }
   ],
   "source": [
    "num_rom = \"MCMXCIV\"\n",
    "num = romanToInt(num_rom)\n",
    "print(num)"
   ]
  }
 ],
 "metadata": {
  "kernelspec": {
   "display_name": "Python 3",
   "language": "python",
   "name": "python3"
  },
  "language_info": {
   "codemirror_mode": {
    "name": "ipython",
    "version": 3
   },
   "file_extension": ".py",
   "mimetype": "text/x-python",
   "name": "python",
   "nbconvert_exporter": "python",
   "pygments_lexer": "ipython3",
   "version": "3.11.6"
  }
 },
 "nbformat": 4,
 "nbformat_minor": 2
}
