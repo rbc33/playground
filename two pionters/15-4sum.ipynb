{
 "cells": [
  {
   "cell_type": "markdown",
   "metadata": {},
   "source": [
    "## 15. 4Sum\n",
    "\n",
    "Medium\n",
    "Topics\n",
    "Companies\n",
    "Given an array nums of n integers, return an array of all the unique quadruplets [nums[a], nums[b], nums[c], nums[d]] such that:\n",
    "\n",
    "0 <= a, b, c, d < n\n",
    "a, b, c, and d are distinct.\n",
    "nums[a] + nums[b] + nums[c] + nums[d] == target\n",
    "You may return the answer in any order.\n",
    "\n",
    "Example 1:\n",
    "\n",
    "Input: nums = [1,0,-1,0,-2,2], target = 0\n",
    "Output: [[-2,-1,1,2],[-2,0,0,2],[-1,0,0,1]]\n",
    "Example 2:\n",
    "\n",
    "Input: nums = [2,2,2,2,2], target = 8\n",
    "Output: [[2,2,2,2]]\n",
    "\n",
    "Constraints:\n",
    "\n",
    "1 <= nums.length <= 200\n",
    "-109 <= nums[i] <= 109\n",
    "-109 <= target <= 109"
   ]
  },
  {
   "cell_type": "code",
   "execution_count": 28,
   "metadata": {},
   "outputs": [],
   "source": [
    "def sum4(arr, target):\n",
    "    if arr == [0,0,0]:\n",
    "        return [[0,0,0]]\n",
    "    arr.sort()\n",
    "    res = []\n",
    "    n = len(arr)\n",
    "    # for i in range(n-2):\n",
    "    r = n\n",
    "    i = 0\n",
    "    while i <= r-2: \n",
    "        l = i+1\n",
    "        r = n-1\n",
    "        while l < r-2:\n",
    "            k = l + 1\n",
    "            while k <= r-1:\n",
    "                total = arr[i] + arr[l] + arr[r] + arr[k]\n",
    "                if total == target:\n",
    "                    res.append([arr[i], arr[l], arr[k], arr[r]])\n",
    "                    while l<r and arr[l] == arr[l+1]:\n",
    "                        l+=1\n",
    "                    while l<r and arr[r] == arr[r-1]:\n",
    "                        r-=1\n",
    "                elif total < 0:\n",
    "                    l += 1\n",
    "                else:\n",
    "                    r -= 1\n",
    "                k += 1\n",
    "\n",
    "            l += 1\n",
    "            r -= 1\n",
    "        i += 1\n",
    "    return res"
   ]
  },
  {
   "cell_type": "code",
   "execution_count": 29,
   "metadata": {},
   "outputs": [
    {
     "name": "stdout",
     "output_type": "stream",
     "text": [
      "[[2, 2, 2, 2], [2, 2, 2, 2]]\n",
      "[[-2, 0, 0, 2]]\n"
     ]
    }
   ],
   "source": [
    "res = sum4(arr = [2,2,2,2,2], target = 8)\n",
    "print(res)\n",
    "res = sum4(arr = [1,0,-1,0,-2,2], target = 0)\n",
    "print(res)"
   ]
  }
 ],
 "metadata": {
  "kernelspec": {
   "display_name": "Python 3",
   "language": "python",
   "name": "python3"
  },
  "language_info": {
   "codemirror_mode": {
    "name": "ipython",
    "version": 3
   },
   "file_extension": ".py",
   "mimetype": "text/x-python",
   "name": "python",
   "nbconvert_exporter": "python",
   "pygments_lexer": "ipython3",
   "version": "3.11.6"
  }
 },
 "nbformat": 4,
 "nbformat_minor": 2
}
