{
 "cells": [
  {
   "cell_type": "markdown",
   "metadata": {},
   "source": [
    "[42\\. Trapping Rain Water](https://leetcode.com/problems/trapping-rain-water/)\n",
    "\n",
    "Hard\n",
    "\n",
    "Topics\n",
    "\n",
    "Companies\n",
    "\n",
    "Given `n` non-negative integers representing an elevation map where the width of each bar is `1`, compute how much water it can trap after raining.\n",
    "\n",
    "**Example 1:**\n",
    "\n",
    "![](https://assets.leetcode.com/uploads/2018/10/22/rainwatertrap.png)\n",
    "\n",
    "**Input:** height = \\[0,1,0,2,1,0,1,3,2,1,2,1\\]\n",
    "**Output:** 6\n",
    "**Explanation:** The above elevation map (black section) is represented by array \\[0,1,0,2,1,0,1,3,2,1,2,1\\]. In this case, 6 units of rain water (blue section) are being trapped.\n",
    "\n",
    "**Example 2:**\n",
    "\n",
    "**Input:** height = \\[4,2,0,3,2,5\\]\n",
    "**Output:** 9\n",
    "\n",
    "**Constraints:**\n",
    "\n",
    "- `n == height.length`\n",
    "- `1 <= n <= 2 * 10<sup>4</sup>`\n",
    "- `0 <= height[i] <= 10<sup>5</sup>`"
   ]
  },
  {
   "cell_type": "code",
   "execution_count": null,
   "metadata": {},
   "outputs": [],
   "source": [
    "def trap(height) -> int:\n",
    "    n = len(height)-1\n",
    "    lp = 0\n",
    "    rp = n\n",
    "    area, l, r = 0, 0, 0 \n",
    "    while lp <= rp:\n",
    "        if height[lp]<height[rp]:\n",
    "            if height[lp] > l:\n",
    "                l = height[lp]\n",
    "            else:\n",
    "                area += l - height[lp] \n",
    "                lp += 1\n",
    "        else:\n",
    "            if height[rp] > r:\n",
    "                r = height[rp]\n",
    "            else:\n",
    "                area += r - height[rp]\n",
    "                rp -= 1 \n",
    "\n",
    "    return area\n",
    "\n",
    "\n",
    "\n",
    "\n"
   ]
  }
 ],
 "metadata": {
  "kernelspec": {
   "display_name": "Python 3",
   "language": "python",
   "name": "python3"
  },
  "language_info": {
   "name": "python",
   "version": "3.11.6"
  }
 },
 "nbformat": 4,
 "nbformat_minor": 2
}
