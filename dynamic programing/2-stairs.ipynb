{
 "cells": [
  {
   "cell_type": "markdown",
   "metadata": {},
   "source": [
    "# 2. Climbing Stairs\n",
    "Estás subiendo una escalera. Se necesitan n pasos para llegar a la cima. Cada vez puedes subir 1 o 2 escalones. ¿De cuántas formas distintas puedes subir a la cima?\n",
    "\n",
    "Test cases:\n",
    "\n",
    "- climbStairs(2) → 2 (1+1, 2)\n",
    "- climbStairs(3) → 3 (1+1+1, 1+2, 2+1)\n",
    "- climbStairs(4) → 5 (1+1+1+1, 1+1+2, 1+2+1, 2+1+1, 2+2)"
   ]
  },
  {
   "cell_type": "code",
   "execution_count": 47,
   "metadata": {},
   "outputs": [],
   "source": [
    "def stairs(num):\n",
    "    if num <=2:\n",
    "        return num\n",
    "    dp = [num**2] * (num+1)\n",
    "    dp[0] = 0\n",
    "    dp[1] = 1\n",
    "    dp[2] = 2\n",
    "    for i in range(3, num+1):\n",
    "        dp[i] = dp[i-1] + dp[i-2] \n",
    "    return dp[num] if dp[num] != num**2 else 0\n"
   ]
  },
  {
   "cell_type": "code",
   "execution_count": 48,
   "metadata": {},
   "outputs": [],
   "source": [
    "def stairs(num):\n",
    "    if num < 3:\n",
    "        return num\n",
    "    dp_1 = 1\n",
    "    dp_2 = 2\n",
    "    for i in range(3, num):\n",
    "        curr = dp_1 + dp_2 \n",
    "        dp_1 = dp_2\n",
    "        dp_2 = curr\n",
    "\n",
    "\n",
    "    return curr"
   ]
  },
  {
   "cell_type": "code",
   "execution_count": 45,
   "metadata": {},
   "outputs": [
    {
     "name": "stdout",
     "output_type": "stream",
     "text": [
      "2  expected:  2\n",
      "3  expected:  3\n",
      "5  expected:  5\n",
      "14930352  expected:  14930352\n",
      "1  expected:  1\n",
      "0  expected:  0\n"
     ]
    }
   ],
   "source": [
    "# 2. Climbing Stairs\n",
    "climbing_stairs_tests = [\n",
    "    # Casos normales\n",
    "    (2, 2),\n",
    "    (3, 3),\n",
    "    (4, 5),\n",
    "    # Casos difíciles\n",
    "    (35, 14930352),\n",
    "    (1, 1),\n",
    "    (0, 0)\n",
    "]\n",
    "for t in climbing_stairs_tests:\n",
    "    res = stairs(t[0])\n",
    "    print(res,\" expected: \", t[1])"
   ]
  }
 ],
 "metadata": {
  "kernelspec": {
   "display_name": "Python 3",
   "language": "python",
   "name": "python3"
  },
  "language_info": {
   "codemirror_mode": {
    "name": "ipython",
    "version": 3
   },
   "file_extension": ".py",
   "mimetype": "text/x-python",
   "name": "python",
   "nbconvert_exporter": "python",
   "pygments_lexer": "ipython3",
   "version": "3.11.6"
  }
 },
 "nbformat": 4,
 "nbformat_minor": 2
}
