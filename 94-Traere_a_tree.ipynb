{
 "cells": [
  {
   "cell_type": "markdown",
   "metadata": {},
   "source": [
    "[94\\. Binary Tree Inorder Traversal](https://leetcode.com/problems/binary-tree-inorder-traversal/)\n",
    "\n",
    "Easy\n",
    "\n",
    "Topics\n",
    "\n",
    "Companies\n",
    "\n",
    "Given the `root` of a binary tree, return _the inorder traversal of its nodes' values_.\n",
    "\n",
    "**Example 1:**\n",
    "\n",
    "**Input:** root = \\[1,null,2,3\\]\n",
    "\n",
    "**Output:** \\[1,3,2\\]\n",
    "\n",
    "**Explanation:**\n",
    "\n",
    "![](https://assets.leetcode.com/uploads/2024/08/29/screenshot-2024-08-29-202743.png)\n",
    "\n",
    "**Example 2:**\n",
    "\n",
    "**Input:** root = \\[1,2,3,4,5,null,8,null,null,6,7,9\\]\n",
    "\n",
    "**Output:** \\[4,2,6,5,7,1,3,9,8\\]\n",
    "\n",
    "**Explanation:**\n",
    "\n",
    "![](https://assets.leetcode.com/uploads/2024/08/29/tree_2.png)\n",
    "\n",
    "**Example 3:**\n",
    "\n",
    "**Input:** root = \\[\\]\n",
    "\n",
    "**Output:** \\[\\]\n",
    "\n",
    "**Example 4:**\n",
    "\n",
    "**Input:** root = \\[1\\]\n",
    "\n",
    "**Output:** \\[1\\]\n",
    "\n",
    "**Constraints:**\n",
    "\n",
    "- The number of nodes in the tree is in the range `[0, 100]`.\n",
    "- `-100 <= Node.val <= 100`\n",
    "\n",
    "**Follow up:** Recursive solution is trivial, could you do it iteratively?"
   ]
  },
  {
   "cell_type": "code",
   "execution_count": null,
   "metadata": {
    "vscode": {
     "languageId": "plaintext"
    }
   },
   "outputs": [],
   "source": [
    "class Solution:\n",
    "    def inorderTraversal(self, root: Optional[TreeNode]) -> List[int]:\n",
    "        res = []\n",
    "        stack = []\n",
    "        curr= root\n",
    "        while curr or stack:\n",
    "            while curr:\n",
    "                stack.append(curr)\n",
    "                curr = curr.left\n",
    "            curr = stack.pop()\n",
    "            res.append(curr.val)\n",
    "            curr = curr.right\n",
    "        return res"
   ]
  }
 ],
 "metadata": {
  "language_info": {
   "name": "python"
  }
 },
 "nbformat": 4,
 "nbformat_minor": 2
}
