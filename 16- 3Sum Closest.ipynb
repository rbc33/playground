{
 "cells": [
  {
   "cell_type": "markdown",
   "metadata": {},
   "source": [
    "[16\\. 3Sum Closest](https://leetcode.com/problems/3sum-closest/)\n",
    "\n",
    "Medium\n",
    "\n",
    "Topics\n",
    "\n",
    "Companies\n",
    "\n",
    "Given an integer array `nums` of length `n` and an integer `target`, find three integers in `nums` such that the sum is closest to `target`.\n",
    "\n",
    "Return _the sum of the three integers_.\n",
    "\n",
    "You may assume that each input would have exactly one solution.\n",
    "\n",
    "**Example 1:**\n",
    "\n",
    "**Input:** nums = \\[-1,2,1,-4\\], target = 1\n",
    "**Output:** 2\n",
    "**Explanation:** The sum that is closest to the target is 2. (-1 + 2 + 1 = 2).\n",
    "\n",
    "**Example 2:**\n",
    "\n",
    "**Input:** nums = \\[0,0,0\\], target = 1\n",
    "**Output:** 0\n",
    "**Explanation:** The sum that is closest to the target is 0. (0 + 0 + 0 = 0).\n",
    "\n",
    "**Constraints:**\n",
    "\n",
    "- `3 <= nums.length <= 500`\n",
    "- `-1000 <= nums[i] <= 1000`\n",
    "- `-10<sup>4</sup> <= target <= 10<sup>4</sup>`"
   ]
  },
  {
   "cell_type": "code",
   "execution_count": null,
   "metadata": {},
   "outputs": [],
   "source": [
    "def threeSumClosest( nums: List[int], target: int) -> int:\n",
    "    nums.sort()\n",
    "    closest = nums[0] + nums[1]+nums[2]\n",
    "\n",
    "    for i in range(len(nums)-2):\n",
    "        left, right = i+1, len(nums)-1\n",
    "\n",
    "        while left < right:\n",
    "            currSum = nums[i] + nums[left] + nums[right]\n",
    "\n",
    "            if currSum == target:\n",
    "                return target\n",
    "\n",
    "            if abs(currSum-target) < abs(closest-target):\n",
    "                closest = currSum\n",
    "            \n",
    "            if target>currSum:\n",
    "                left += 1\n",
    "            else:\n",
    "                right -= 1\n",
    "    return closest"
   ]
  }
 ],
 "metadata": {
  "kernelspec": {
   "display_name": "Python 3",
   "language": "python",
   "name": "python3"
  },
  "language_info": {
   "name": "python",
   "version": "3.11.6"
  }
 },
 "nbformat": 4,
 "nbformat_minor": 2
}
