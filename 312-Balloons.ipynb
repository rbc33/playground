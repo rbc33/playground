{
 "cells": [
  {
   "cell_type": "markdown",
   "metadata": {},
   "source": [
    "Testcase\n",
    "\n",
    "Testcase\n",
    "\n",
    "Test Result\n",
    "\n",
    "Test Result\n",
    "\n",
    "Code\n",
    "\n",
    "Code\n",
    "\n",
    "[312\\. Burst Balloons](https://leetcode.com/problems/burst-balloons/)\n",
    "\n",
    "Attempted\n",
    "\n",
    "Hard\n",
    "\n",
    "Topics\n",
    "\n",
    "Companies\n",
    "\n",
    "You are given `n` balloons, indexed from `0` to `n - 1`. Each balloon is painted with a number on it represented by an array `nums`. You are asked to burst all the balloons.\n",
    "\n",
    "If you burst the `i<sup>th</sup>` balloon, you will get `nums[i - 1] * nums[i] * nums[i + 1]` coins. If `i - 1` or `i + 1` goes out of bounds of the array, then treat it as if there is a balloon with a `1` painted on it.\n",
    "\n",
    "Return _the maximum coins you can collect by bursting the balloons wisely_.\n",
    "\n",
    "**Example 1:**\n",
    "\n",
    "**Input:** nums = \\[3,1,5,8\\]\n",
    "**Output:** 167\n",
    "**Explanation:**\n",
    "nums = \\[3,1,5,8\\] --> \\[3,5,8\\] --> \\[3,8\\] --> \\[8\\] --> \\[\\]\n",
    "coins =  3\\*1\\*5    +   3\\*5\\*8   +  1\\*3\\*8  + 1\\*8\\*1 = 167\n",
    "\n",
    "**Example 2:**\n",
    "\n",
    "**Input:** nums = \\[1,5\\]\n",
    "**Output:** 10\n",
    "\n",
    "**Constraints:**\n",
    "\n",
    "- `n == nums.length`\n",
    "- `1 <= n <= 300`\n",
    "- `0 <= nums[i] <= 100`"
   ]
  },
  {
   "cell_type": "markdown",
   "metadata": {},
   "source": []
  },
  {
   "cell_type": "markdown",
   "metadata": {},
   "source": [
    "nums =\n",
    "[35,16,83,87,84,59,48,41]\n",
    "Output\n",
    "1495196\n",
    "Expected\n",
    "1583373\n"
   ]
  },
  {
   "cell_type": "markdown",
   "metadata": {},
   "source": [
    "nums =\n",
    "[9,76,64,21]\n",
    "Output\n",
    "116718\n",
    "Expected\n",
    "116718"
   ]
  },
  {
   "cell_type": "markdown",
   "metadata": {},
   "source": [
    "nums =\n",
    "[1,5]\n",
    "Output\n",
    "10\n",
    "Expected\n",
    "10"
   ]
  },
  {
   "cell_type": "markdown",
   "metadata": {},
   "source": [
    "nums =\n",
    "[3,1,5,8]\n",
    "Output\n",
    "167\n",
    "Expected\n",
    "167"
   ]
  },
  {
   "cell_type": "code",
   "execution_count": null,
   "metadata": {
    "vscode": {
     "languageId": "plaintext"
    }
   },
   "outputs": [],
   "source": [
    "class Solution:\n",
    "    def maxCoins(self, nums: List[int]) -> int:\n",
    "        def rec_min(nums):\n",
    "            minn = nums[:]\n",
    "            if not minn:\n",
    "                return\n",
    "            if len(minn) == 1:\n",
    "                return minn[0]\n",
    "            if len(minn) == 2:\n",
    "                return min(minn)*max(minn) + max(minn)\n",
    "                \n",
    "            coins = 0\n",
    "            mc = float(\"inf\")\n",
    "            mi = 0\n",
    "\n",
    "            i = 1\n",
    "            while i<len(minn)-1:\n",
    "                m = minn[i]*minn[i-1]*minn[i+1]\n",
    "                if m < mc:\n",
    "                    mc= m\n",
    "                    mi = i\n",
    "                i+=1\n",
    "            coins += mc\n",
    "            minn.pop(mi)\n",
    "            coins += rec_min(minn)\n",
    "            return coins\n",
    "        def rec_max(nums):\n",
    "            maxn = nums[:]\n",
    "            if not maxn:\n",
    "                return\n",
    "            if len(maxn) == 1:\n",
    "                return maxn[0]\n",
    "            if len(maxn) == 2:\n",
    "                return maxn[0]*maxn[1] + max(maxn)\n",
    "            \n",
    "            coins = 0\n",
    "            mc = 0\n",
    "            mi = 0\n",
    "\n",
    "            i = 1\n",
    "            while i<len(maxn)-1:\n",
    "                m = maxn[i]*maxn[i-1]*maxn[i+1]\n",
    "                if m > mc:\n",
    "                    mc= m\n",
    "                    mi = i\n",
    "                i+=1\n",
    "            coins += mc\n",
    "            maxn.pop(mi)\n",
    "            coins += rec_max(maxn)\n",
    "            return coins\n",
    "            coins = 0\n",
    "        return max(rec_min(nums), rec_max(nums))\n",
    "        \n",
    "\n",
    "        "
   ]
  }
 ],
 "metadata": {
  "language_info": {
   "name": "python"
  }
 },
 "nbformat": 4,
 "nbformat_minor": 2
}
